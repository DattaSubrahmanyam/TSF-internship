{
  "nbformat": 4,
  "nbformat_minor": 0,
  "metadata": {
    "colab": {
      "name": "TSF_Task-2(Final Version)_Y. Datta Subrahmanyam.ipynb",
      "provenance": [],
      "collapsed_sections": []
    },
    "kernelspec": {
      "name": "python3",
      "display_name": "Python 3"
    }
  },
  "cells": [
    {
      "cell_type": "markdown",
      "metadata": {
        "id": "mPh2BXFxR20H",
        "colab_type": "text"
      },
      "source": [
        "#Task -2 "
      ]
    },
    {
      "cell_type": "markdown",
      "metadata": {
        "id": "_W3sQ5lvR7LQ",
        "colab_type": "text"
      },
      "source": [
        "## To explore Supervised Machine Learning\n",
        "### Predict the percentage of marks that a student is expected to score based upon the number of hours they studied using Linear regression."
      ]
    },
    {
      "cell_type": "markdown",
      "metadata": {
        "id": "pJkjaP7KSmQI",
        "colab_type": "text"
      },
      "source": [
        "#### Data set "
      ]
    },
    {
      "cell_type": "code",
      "metadata": {
        "id": "blCwTJ7YR5_Z",
        "colab_type": "code",
        "colab": {}
      },
      "source": [
        "import numpy as np\n",
        "import pandas as pd\n",
        "\n",
        "fobj=pd.read_csv(\"https://raw.githubusercontent.com/AdiPersonalWorks/Random/master/student_scores%20-%20student_scores.csv\")"
      ],
      "execution_count": 1,
      "outputs": []
    },
    {
      "cell_type": "code",
      "metadata": {
        "id": "958FV2ucUD4p",
        "colab_type": "code",
        "colab": {
          "base_uri": "https://localhost:8080/",
          "height": 824
        },
        "outputId": "bb294071-4dfe-4873-ece0-925d7db5b136"
      },
      "source": [
        "fobj"
      ],
      "execution_count": 2,
      "outputs": [
        {
          "output_type": "execute_result",
          "data": {
            "text/html": [
              "<div>\n",
              "<style scoped>\n",
              "    .dataframe tbody tr th:only-of-type {\n",
              "        vertical-align: middle;\n",
              "    }\n",
              "\n",
              "    .dataframe tbody tr th {\n",
              "        vertical-align: top;\n",
              "    }\n",
              "\n",
              "    .dataframe thead th {\n",
              "        text-align: right;\n",
              "    }\n",
              "</style>\n",
              "<table border=\"1\" class=\"dataframe\">\n",
              "  <thead>\n",
              "    <tr style=\"text-align: right;\">\n",
              "      <th></th>\n",
              "      <th>Hours</th>\n",
              "      <th>Scores</th>\n",
              "    </tr>\n",
              "  </thead>\n",
              "  <tbody>\n",
              "    <tr>\n",
              "      <th>0</th>\n",
              "      <td>2.5</td>\n",
              "      <td>21</td>\n",
              "    </tr>\n",
              "    <tr>\n",
              "      <th>1</th>\n",
              "      <td>5.1</td>\n",
              "      <td>47</td>\n",
              "    </tr>\n",
              "    <tr>\n",
              "      <th>2</th>\n",
              "      <td>3.2</td>\n",
              "      <td>27</td>\n",
              "    </tr>\n",
              "    <tr>\n",
              "      <th>3</th>\n",
              "      <td>8.5</td>\n",
              "      <td>75</td>\n",
              "    </tr>\n",
              "    <tr>\n",
              "      <th>4</th>\n",
              "      <td>3.5</td>\n",
              "      <td>30</td>\n",
              "    </tr>\n",
              "    <tr>\n",
              "      <th>5</th>\n",
              "      <td>1.5</td>\n",
              "      <td>20</td>\n",
              "    </tr>\n",
              "    <tr>\n",
              "      <th>6</th>\n",
              "      <td>9.2</td>\n",
              "      <td>88</td>\n",
              "    </tr>\n",
              "    <tr>\n",
              "      <th>7</th>\n",
              "      <td>5.5</td>\n",
              "      <td>60</td>\n",
              "    </tr>\n",
              "    <tr>\n",
              "      <th>8</th>\n",
              "      <td>8.3</td>\n",
              "      <td>81</td>\n",
              "    </tr>\n",
              "    <tr>\n",
              "      <th>9</th>\n",
              "      <td>2.7</td>\n",
              "      <td>25</td>\n",
              "    </tr>\n",
              "    <tr>\n",
              "      <th>10</th>\n",
              "      <td>7.7</td>\n",
              "      <td>85</td>\n",
              "    </tr>\n",
              "    <tr>\n",
              "      <th>11</th>\n",
              "      <td>5.9</td>\n",
              "      <td>62</td>\n",
              "    </tr>\n",
              "    <tr>\n",
              "      <th>12</th>\n",
              "      <td>4.5</td>\n",
              "      <td>41</td>\n",
              "    </tr>\n",
              "    <tr>\n",
              "      <th>13</th>\n",
              "      <td>3.3</td>\n",
              "      <td>42</td>\n",
              "    </tr>\n",
              "    <tr>\n",
              "      <th>14</th>\n",
              "      <td>1.1</td>\n",
              "      <td>17</td>\n",
              "    </tr>\n",
              "    <tr>\n",
              "      <th>15</th>\n",
              "      <td>8.9</td>\n",
              "      <td>95</td>\n",
              "    </tr>\n",
              "    <tr>\n",
              "      <th>16</th>\n",
              "      <td>2.5</td>\n",
              "      <td>30</td>\n",
              "    </tr>\n",
              "    <tr>\n",
              "      <th>17</th>\n",
              "      <td>1.9</td>\n",
              "      <td>24</td>\n",
              "    </tr>\n",
              "    <tr>\n",
              "      <th>18</th>\n",
              "      <td>6.1</td>\n",
              "      <td>67</td>\n",
              "    </tr>\n",
              "    <tr>\n",
              "      <th>19</th>\n",
              "      <td>7.4</td>\n",
              "      <td>69</td>\n",
              "    </tr>\n",
              "    <tr>\n",
              "      <th>20</th>\n",
              "      <td>2.7</td>\n",
              "      <td>30</td>\n",
              "    </tr>\n",
              "    <tr>\n",
              "      <th>21</th>\n",
              "      <td>4.8</td>\n",
              "      <td>54</td>\n",
              "    </tr>\n",
              "    <tr>\n",
              "      <th>22</th>\n",
              "      <td>3.8</td>\n",
              "      <td>35</td>\n",
              "    </tr>\n",
              "    <tr>\n",
              "      <th>23</th>\n",
              "      <td>6.9</td>\n",
              "      <td>76</td>\n",
              "    </tr>\n",
              "    <tr>\n",
              "      <th>24</th>\n",
              "      <td>7.8</td>\n",
              "      <td>86</td>\n",
              "    </tr>\n",
              "  </tbody>\n",
              "</table>\n",
              "</div>"
            ],
            "text/plain": [
              "    Hours  Scores\n",
              "0     2.5      21\n",
              "1     5.1      47\n",
              "2     3.2      27\n",
              "3     8.5      75\n",
              "4     3.5      30\n",
              "5     1.5      20\n",
              "6     9.2      88\n",
              "7     5.5      60\n",
              "8     8.3      81\n",
              "9     2.7      25\n",
              "10    7.7      85\n",
              "11    5.9      62\n",
              "12    4.5      41\n",
              "13    3.3      42\n",
              "14    1.1      17\n",
              "15    8.9      95\n",
              "16    2.5      30\n",
              "17    1.9      24\n",
              "18    6.1      67\n",
              "19    7.4      69\n",
              "20    2.7      30\n",
              "21    4.8      54\n",
              "22    3.8      35\n",
              "23    6.9      76\n",
              "24    7.8      86"
            ]
          },
          "metadata": {
            "tags": []
          },
          "execution_count": 2
        }
      ]
    },
    {
      "cell_type": "markdown",
      "metadata": {
        "id": "qZjTpC0JVfWL",
        "colab_type": "text"
      },
      "source": [
        "### Understanding Data set"
      ]
    },
    {
      "cell_type": "markdown",
      "metadata": {
        "id": "Wd0Z7HJKNR7K",
        "colab_type": "text"
      },
      "source": [
        "#### What does the data speak statistically !"
      ]
    },
    {
      "cell_type": "code",
      "metadata": {
        "id": "MbmE7VweNIoE",
        "colab_type": "code",
        "colab": {
          "base_uri": "https://localhost:8080/",
          "height": 297
        },
        "outputId": "550eb929-6429-46f2-8687-d3ea0feda4ed"
      },
      "source": [
        "fobj.describe()"
      ],
      "execution_count": 3,
      "outputs": [
        {
          "output_type": "execute_result",
          "data": {
            "text/html": [
              "<div>\n",
              "<style scoped>\n",
              "    .dataframe tbody tr th:only-of-type {\n",
              "        vertical-align: middle;\n",
              "    }\n",
              "\n",
              "    .dataframe tbody tr th {\n",
              "        vertical-align: top;\n",
              "    }\n",
              "\n",
              "    .dataframe thead th {\n",
              "        text-align: right;\n",
              "    }\n",
              "</style>\n",
              "<table border=\"1\" class=\"dataframe\">\n",
              "  <thead>\n",
              "    <tr style=\"text-align: right;\">\n",
              "      <th></th>\n",
              "      <th>Hours</th>\n",
              "      <th>Scores</th>\n",
              "    </tr>\n",
              "  </thead>\n",
              "  <tbody>\n",
              "    <tr>\n",
              "      <th>count</th>\n",
              "      <td>25.000000</td>\n",
              "      <td>25.000000</td>\n",
              "    </tr>\n",
              "    <tr>\n",
              "      <th>mean</th>\n",
              "      <td>5.012000</td>\n",
              "      <td>51.480000</td>\n",
              "    </tr>\n",
              "    <tr>\n",
              "      <th>std</th>\n",
              "      <td>2.525094</td>\n",
              "      <td>25.286887</td>\n",
              "    </tr>\n",
              "    <tr>\n",
              "      <th>min</th>\n",
              "      <td>1.100000</td>\n",
              "      <td>17.000000</td>\n",
              "    </tr>\n",
              "    <tr>\n",
              "      <th>25%</th>\n",
              "      <td>2.700000</td>\n",
              "      <td>30.000000</td>\n",
              "    </tr>\n",
              "    <tr>\n",
              "      <th>50%</th>\n",
              "      <td>4.800000</td>\n",
              "      <td>47.000000</td>\n",
              "    </tr>\n",
              "    <tr>\n",
              "      <th>75%</th>\n",
              "      <td>7.400000</td>\n",
              "      <td>75.000000</td>\n",
              "    </tr>\n",
              "    <tr>\n",
              "      <th>max</th>\n",
              "      <td>9.200000</td>\n",
              "      <td>95.000000</td>\n",
              "    </tr>\n",
              "  </tbody>\n",
              "</table>\n",
              "</div>"
            ],
            "text/plain": [
              "           Hours     Scores\n",
              "count  25.000000  25.000000\n",
              "mean    5.012000  51.480000\n",
              "std     2.525094  25.286887\n",
              "min     1.100000  17.000000\n",
              "25%     2.700000  30.000000\n",
              "50%     4.800000  47.000000\n",
              "75%     7.400000  75.000000\n",
              "max     9.200000  95.000000"
            ]
          },
          "metadata": {
            "tags": []
          },
          "execution_count": 3
        }
      ]
    },
    {
      "cell_type": "code",
      "metadata": {
        "id": "lJTrTqvU0Pig",
        "colab_type": "code",
        "colab": {
          "base_uri": "https://localhost:8080/",
          "height": 824
        },
        "outputId": "e3408ccd-aa3d-46b1-808f-c64b8e2ad5a9"
      },
      "source": [
        "newfobj=fobj.sort_values(\"Hours\",axis=0,ascending=True)\n",
        "newfobj"
      ],
      "execution_count": 4,
      "outputs": [
        {
          "output_type": "execute_result",
          "data": {
            "text/html": [
              "<div>\n",
              "<style scoped>\n",
              "    .dataframe tbody tr th:only-of-type {\n",
              "        vertical-align: middle;\n",
              "    }\n",
              "\n",
              "    .dataframe tbody tr th {\n",
              "        vertical-align: top;\n",
              "    }\n",
              "\n",
              "    .dataframe thead th {\n",
              "        text-align: right;\n",
              "    }\n",
              "</style>\n",
              "<table border=\"1\" class=\"dataframe\">\n",
              "  <thead>\n",
              "    <tr style=\"text-align: right;\">\n",
              "      <th></th>\n",
              "      <th>Hours</th>\n",
              "      <th>Scores</th>\n",
              "    </tr>\n",
              "  </thead>\n",
              "  <tbody>\n",
              "    <tr>\n",
              "      <th>14</th>\n",
              "      <td>1.1</td>\n",
              "      <td>17</td>\n",
              "    </tr>\n",
              "    <tr>\n",
              "      <th>5</th>\n",
              "      <td>1.5</td>\n",
              "      <td>20</td>\n",
              "    </tr>\n",
              "    <tr>\n",
              "      <th>17</th>\n",
              "      <td>1.9</td>\n",
              "      <td>24</td>\n",
              "    </tr>\n",
              "    <tr>\n",
              "      <th>0</th>\n",
              "      <td>2.5</td>\n",
              "      <td>21</td>\n",
              "    </tr>\n",
              "    <tr>\n",
              "      <th>16</th>\n",
              "      <td>2.5</td>\n",
              "      <td>30</td>\n",
              "    </tr>\n",
              "    <tr>\n",
              "      <th>20</th>\n",
              "      <td>2.7</td>\n",
              "      <td>30</td>\n",
              "    </tr>\n",
              "    <tr>\n",
              "      <th>9</th>\n",
              "      <td>2.7</td>\n",
              "      <td>25</td>\n",
              "    </tr>\n",
              "    <tr>\n",
              "      <th>2</th>\n",
              "      <td>3.2</td>\n",
              "      <td>27</td>\n",
              "    </tr>\n",
              "    <tr>\n",
              "      <th>13</th>\n",
              "      <td>3.3</td>\n",
              "      <td>42</td>\n",
              "    </tr>\n",
              "    <tr>\n",
              "      <th>4</th>\n",
              "      <td>3.5</td>\n",
              "      <td>30</td>\n",
              "    </tr>\n",
              "    <tr>\n",
              "      <th>22</th>\n",
              "      <td>3.8</td>\n",
              "      <td>35</td>\n",
              "    </tr>\n",
              "    <tr>\n",
              "      <th>12</th>\n",
              "      <td>4.5</td>\n",
              "      <td>41</td>\n",
              "    </tr>\n",
              "    <tr>\n",
              "      <th>21</th>\n",
              "      <td>4.8</td>\n",
              "      <td>54</td>\n",
              "    </tr>\n",
              "    <tr>\n",
              "      <th>1</th>\n",
              "      <td>5.1</td>\n",
              "      <td>47</td>\n",
              "    </tr>\n",
              "    <tr>\n",
              "      <th>7</th>\n",
              "      <td>5.5</td>\n",
              "      <td>60</td>\n",
              "    </tr>\n",
              "    <tr>\n",
              "      <th>11</th>\n",
              "      <td>5.9</td>\n",
              "      <td>62</td>\n",
              "    </tr>\n",
              "    <tr>\n",
              "      <th>18</th>\n",
              "      <td>6.1</td>\n",
              "      <td>67</td>\n",
              "    </tr>\n",
              "    <tr>\n",
              "      <th>23</th>\n",
              "      <td>6.9</td>\n",
              "      <td>76</td>\n",
              "    </tr>\n",
              "    <tr>\n",
              "      <th>19</th>\n",
              "      <td>7.4</td>\n",
              "      <td>69</td>\n",
              "    </tr>\n",
              "    <tr>\n",
              "      <th>10</th>\n",
              "      <td>7.7</td>\n",
              "      <td>85</td>\n",
              "    </tr>\n",
              "    <tr>\n",
              "      <th>24</th>\n",
              "      <td>7.8</td>\n",
              "      <td>86</td>\n",
              "    </tr>\n",
              "    <tr>\n",
              "      <th>8</th>\n",
              "      <td>8.3</td>\n",
              "      <td>81</td>\n",
              "    </tr>\n",
              "    <tr>\n",
              "      <th>3</th>\n",
              "      <td>8.5</td>\n",
              "      <td>75</td>\n",
              "    </tr>\n",
              "    <tr>\n",
              "      <th>15</th>\n",
              "      <td>8.9</td>\n",
              "      <td>95</td>\n",
              "    </tr>\n",
              "    <tr>\n",
              "      <th>6</th>\n",
              "      <td>9.2</td>\n",
              "      <td>88</td>\n",
              "    </tr>\n",
              "  </tbody>\n",
              "</table>\n",
              "</div>"
            ],
            "text/plain": [
              "    Hours  Scores\n",
              "14    1.1      17\n",
              "5     1.5      20\n",
              "17    1.9      24\n",
              "0     2.5      21\n",
              "16    2.5      30\n",
              "20    2.7      30\n",
              "9     2.7      25\n",
              "2     3.2      27\n",
              "13    3.3      42\n",
              "4     3.5      30\n",
              "22    3.8      35\n",
              "12    4.5      41\n",
              "21    4.8      54\n",
              "1     5.1      47\n",
              "7     5.5      60\n",
              "11    5.9      62\n",
              "18    6.1      67\n",
              "23    6.9      76\n",
              "19    7.4      69\n",
              "10    7.7      85\n",
              "24    7.8      86\n",
              "8     8.3      81\n",
              "3     8.5      75\n",
              "15    8.9      95\n",
              "6     9.2      88"
            ]
          },
          "metadata": {
            "tags": []
          },
          "execution_count": 4
        }
      ]
    },
    {
      "cell_type": "code",
      "metadata": {
        "id": "3JHvOdlLzpR1",
        "colab_type": "code",
        "colab": {
          "base_uri": "https://localhost:8080/",
          "height": 68
        },
        "outputId": "addf1f23-e25e-44ed-959d-3ccab4a3708b"
      },
      "source": [
        "newfobj.median()"
      ],
      "execution_count": 5,
      "outputs": [
        {
          "output_type": "execute_result",
          "data": {
            "text/plain": [
              "Hours      4.8\n",
              "Scores    47.0\n",
              "dtype: float64"
            ]
          },
          "metadata": {
            "tags": []
          },
          "execution_count": 5
        }
      ]
    },
    {
      "cell_type": "code",
      "metadata": {
        "id": "SIr4WUb9mjwo",
        "colab_type": "code",
        "colab": {
          "base_uri": "https://localhost:8080/",
          "height": 442
        },
        "outputId": "b0540990-a45d-4164-bb07-92f7aef9197e"
      },
      "source": [
        "from scipy.stats import skew, kurtosis\n",
        "import seaborn as sns; \n",
        "import matplotlib.pyplot as plt\n",
        "\n",
        "f, axes = plt.subplots(1, 2, figsize=(20, 6), sharex=True)\n",
        "sns.distplot(newfobj.Hours,kde=True,color=\"blue\",ax=axes[0])\n",
        "sns.distplot(newfobj.Scores,kde=True, color=\"olive\", ax=axes[1])\n",
        "\n",
        "for i, ax in enumerate(axes.reshape(-1)):\n",
        "  ax.text(x=0.97, y=0.97, transform=ax.transAxes, s=\"Skewness: %f\" % newfobj.iloc[:,i].skew(), \n",
        "            fontweight='demibold', fontsize=10, verticalalignment='top', horizontalalignment='right', \n",
        "            backgroundcolor='white', color='xkcd:poo brown')\n",
        "  ax.text(x=0.97, y=0.91, transform=ax.transAxes, s=\"Kurtosis: %f\" % newfobj.iloc[:,i].kurt(),\n",
        "        fontweight='demibold', fontsize=10, verticalalignment='top', horizontalalignment='right',\n",
        "        backgroundcolor='white', color='xkcd:dried blood')\n",
        "\n",
        "Hours_Central_tendency=[newfobj.Hours.mean(),newfobj.Hours.median()]\n",
        "Scores_Central_tendency=[newfobj.Scores.mean(),newfobj.Scores.median()]\n",
        "\n",
        "def plotTendencies(axs,i):\n",
        "  if(i==0):\n",
        "    for measurement1 in Hours_Central_tendency:\n",
        "      axs.axvline(measurement1, color='y', linestyle='--')\n",
        "      ax.xaxis.set_major_locator(plt.MaxNLocator(25))\n",
        "  if(i==1):\n",
        "    for measurement2 in Scores_Central_tendency:\n",
        "      axs.axvline(measurement2, color='g', linestyle='-')\n",
        "\n",
        "for i,ax in enumerate(axes.reshape(-1)):\n",
        "  plotTendencies(ax,i)\n",
        "\n"
      ],
      "execution_count": 6,
      "outputs": [
        {
          "output_type": "stream",
          "text": [
            "/usr/local/lib/python3.6/dist-packages/statsmodels/tools/_testing.py:19: FutureWarning: pandas.util.testing is deprecated. Use the functions in the public API at pandas.testing instead.\n",
            "  import pandas.util.testing as tm\n"
          ],
          "name": "stderr"
        },
        {
          "output_type": "display_data",
          "data": {
            "image/png": "[encoded data removed]",
            "text/plain": [
              "<Figure size 1440x432 with 2 Axes>"
            ]
          },
          "metadata": {
            "tags": [],
            "needs_background": "light"
          }
        }
      ]
    },
    {
      "cell_type": "markdown",
      "metadata": {
        "id": "daneu4p8k-Oc",
        "colab_type": "text"
      },
      "source": [
        "## Collinearity check between the independent variables in the dataset"
      ]
    },
    {
      "cell_type": "code",
      "metadata": {
        "id": "yRy0E3nSAQDJ",
        "colab_type": "code",
        "colab": {
          "base_uri": "https://localhost:8080/",
          "height": 34
        },
        "outputId": "9e5486ee-02fe-4ca7-d4b7-b262267ab479"
      },
      "source": [
        "correlation_matrix = np.corrcoef(fobj.Hours, fobj.Scores)\n",
        "correlation_xy = correlation_matrix[0,1]\n",
        "r_squared = correlation_xy**2\n",
        "print(r_squared)\n"
      ],
      "execution_count": 8,
      "outputs": [
        {
          "output_type": "stream",
          "text": [
            "0.9529481969048358\n"
          ],
          "name": "stdout"
        }
      ]
    },
    {
      "cell_type": "markdown",
      "metadata": {
        "id": "cANHJoHDppwL",
        "colab_type": "text"
      },
      "source": [
        "## Data Visualization"
      ]
    },
    {
      "cell_type": "code",
      "metadata": {
        "id": "bjJLKnsbfXab",
        "colab_type": "code",
        "colab": {
          "base_uri": "https://localhost:8080/",
          "height": 204
        },
        "outputId": "e96f0ff2-2be5-4a51-9f82-fd11b6f7ae09"
      },
      "source": [
        "!pip install seaborn"
      ],
      "execution_count": null,
      "outputs": [
        {
          "output_type": "stream",
          "text": [
            "Requirement already satisfied: seaborn in /usr/local/lib/python3.6/dist-packages (0.10.1)\n",
            "Requirement already satisfied: scipy>=1.0.1 in /usr/local/lib/python3.6/dist-packages (from seaborn) (1.4.1)\n",
            "Requirement already satisfied: pandas>=0.22.0 in /usr/local/lib/python3.6/dist-packages (from seaborn) (1.0.5)\n",
            "Requirement already satisfied: numpy>=1.13.3 in /usr/local/lib/python3.6/dist-packages (from seaborn) (1.18.5)\n",
            "Requirement already satisfied: matplotlib>=2.1.2 in /usr/local/lib/python3.6/dist-packages (from seaborn) (3.2.2)\n",
            "Requirement already satisfied: pytz>=2017.2 in /usr/local/lib/python3.6/dist-packages (from pandas>=0.22.0->seaborn) (2018.9)\n",
            "Requirement already satisfied: python-dateutil>=2.6.1 in /usr/local/lib/python3.6/dist-packages (from pandas>=0.22.0->seaborn) (2.8.1)\n",
            "Requirement already satisfied: kiwisolver>=1.0.1 in /usr/local/lib/python3.6/dist-packages (from matplotlib>=2.1.2->seaborn) (1.2.0)\n",
            "Requirement already satisfied: cycler>=0.10 in /usr/local/lib/python3.6/dist-packages (from matplotlib>=2.1.2->seaborn) (0.10.0)\n",
            "Requirement already satisfied: pyparsing!=2.0.4,!=2.1.2,!=2.1.6,>=2.0.1 in /usr/local/lib/python3.6/dist-packages (from matplotlib>=2.1.2->seaborn) (2.4.7)\n",
            "Requirement already satisfied: six>=1.5 in /usr/local/lib/python3.6/dist-packages (from python-dateutil>=2.6.1->pandas>=0.22.0->seaborn) (1.15.0)\n"
          ],
          "name": "stdout"
        }
      ]
    },
    {
      "cell_type": "code",
      "metadata": {
        "id": "uXrrY71Irvyb",
        "colab_type": "code",
        "colab": {
          "base_uri": "https://localhost:8080/",
          "height": 428
        },
        "outputId": "597935b2-1cb0-4c32-f8a4-1715a7081347"
      },
      "source": [
        "!pip  install --upgrade seaborn"
      ],
      "execution_count": null,
      "outputs": [
        {
          "output_type": "stream",
          "text": [
            "Collecting seaborn\n",
            "\u001b[?25l  Downloading https://files.pythonhosted.org/packages/bc/45/5118a05b0d61173e6eb12bc5804f0fbb6f196adb0a20e0b16efc2b8e98be/seaborn-0.11.0-py3-none-any.whl (283kB)\n",
            "\r\u001b[K     |█▏                              | 10kB 13.9MB/s eta 0:00:01\r\u001b[K     |██▎                             | 20kB 1.7MB/s eta 0:00:01\r\u001b[K     |███▌                            | 30kB 2.2MB/s eta 0:00:01\r\u001b[K     |████▋                           | 40kB 1.7MB/s eta 0:00:01\r\u001b[K     |█████▉                          | 51kB 2.1MB/s eta 0:00:01\r\u001b[K     |███████                         | 61kB 2.3MB/s eta 0:00:01\r\u001b[K     |████████                        | 71kB 2.6MB/s eta 0:00:01\r\u001b[K     |█████████▎                      | 81kB 2.8MB/s eta 0:00:01\r\u001b[K     |██████████▍                     | 92kB 2.9MB/s eta 0:00:01\r\u001b[K     |███████████▋                    | 102kB 2.9MB/s eta 0:00:01\r\u001b[K     |████████████▊                   | 112kB 2.9MB/s eta 0:00:01\r\u001b[K     |█████████████▉                  | 122kB 2.9MB/s eta 0:00:01\r\u001b[K     |███████████████                 | 133kB 2.9MB/s eta 0:00:01\r\u001b[K     |████████████████▏               | 143kB 2.9MB/s eta 0:00:01\r\u001b[K     |█████████████████▍              | 153kB 2.9MB/s eta 0:00:01\r\u001b[K     |██████████████████▌             | 163kB 2.9MB/s eta 0:00:01\r\u001b[K     |███████████████████▊            | 174kB 2.9MB/s eta 0:00:01\r\u001b[K     |████████████████████▉           | 184kB 2.9MB/s eta 0:00:01\r\u001b[K     |██████████████████████          | 194kB 2.9MB/s eta 0:00:01\r\u001b[K     |███████████████████████▏        | 204kB 2.9MB/s eta 0:00:01\r\u001b[K     |████████████████████████▎       | 215kB 2.9MB/s eta 0:00:01\r\u001b[K     |█████████████████████████▌      | 225kB 2.9MB/s eta 0:00:01\r\u001b[K     |██████████████████████████▋     | 235kB 2.9MB/s eta 0:00:01\r\u001b[K     |███████████████████████████▊    | 245kB 2.9MB/s eta 0:00:01\r\u001b[K     |█████████████████████████████   | 256kB 2.9MB/s eta 0:00:01\r\u001b[K     |██████████████████████████████  | 266kB 2.9MB/s eta 0:00:01\r\u001b[K     |███████████████████████████████▎| 276kB 2.9MB/s eta 0:00:01\r\u001b[K     |████████████████████████████████| 286kB 2.9MB/s \n",
            "\u001b[?25hRequirement already satisfied, skipping upgrade: numpy>=1.15 in /usr/local/lib/python3.6/dist-packages (from seaborn) (1.18.5)\n",
            "Requirement already satisfied, skipping upgrade: matplotlib>=2.2 in /usr/local/lib/python3.6/dist-packages (from seaborn) (3.2.2)\n",
            "Requirement already satisfied, skipping upgrade: scipy>=1.0 in /usr/local/lib/python3.6/dist-packages (from seaborn) (1.4.1)\n",
            "Requirement already satisfied, skipping upgrade: pandas>=0.23 in /usr/local/lib/python3.6/dist-packages (from seaborn) (1.0.5)\n",
            "Requirement already satisfied, skipping upgrade: pyparsing!=2.0.4,!=2.1.2,!=2.1.6,>=2.0.1 in /usr/local/lib/python3.6/dist-packages (from matplotlib>=2.2->seaborn) (2.4.7)\n",
            "Requirement already satisfied, skipping upgrade: python-dateutil>=2.1 in /usr/local/lib/python3.6/dist-packages (from matplotlib>=2.2->seaborn) (2.8.1)\n",
            "Requirement already satisfied, skipping upgrade: cycler>=0.10 in /usr/local/lib/python3.6/dist-packages (from matplotlib>=2.2->seaborn) (0.10.0)\n",
            "Requirement already satisfied, skipping upgrade: kiwisolver>=1.0.1 in /usr/local/lib/python3.6/dist-packages (from matplotlib>=2.2->seaborn) (1.2.0)\n",
            "Requirement already satisfied, skipping upgrade: pytz>=2017.2 in /usr/local/lib/python3.6/dist-packages (from pandas>=0.23->seaborn) (2018.9)\n",
            "Requirement already satisfied, skipping upgrade: six>=1.5 in /usr/local/lib/python3.6/dist-packages (from python-dateutil>=2.1->matplotlib>=2.2->seaborn) (1.15.0)\n",
            "Installing collected packages: seaborn\n",
            "  Found existing installation: seaborn 0.10.1\n",
            "    Uninstalling seaborn-0.10.1:\n",
            "      Successfully uninstalled seaborn-0.10.1\n",
            "Successfully installed seaborn-0.11.0\n"
          ],
          "name": "stdout"
        },
        {
          "output_type": "display_data",
          "data": {
            "application/vnd.colab-display-data+json": {
              "pip_warning": {
                "packages": [
                  "seaborn"
                ]
              }
            }
          },
          "metadata": {
            "tags": []
          }
        }
      ]
    },
    {
      "cell_type": "code",
      "metadata": {
        "id": "DSInfJaxUHdQ",
        "colab_type": "code",
        "colab": {
          "base_uri": "https://localhost:8080/",
          "height": 863
        },
        "outputId": "9f1bb0af-5056-4d6a-bf36-48363737fecb"
      },
      "source": [
        "import seaborn as sns; \n",
        "import matplotlib.pyplot as plt\n",
        "\n",
        "#Scatter Plot\n",
        "fig=plt.figure()\n",
        "ax=fig.add_axes([0,0,1,1])\n",
        "ax.scatter(fobj.Hours, fobj.Scores, color='r')\n",
        "ax.set_xlabel('Hours Studied')\n",
        "ax.set_ylabel('Grades Scored')\n",
        "ax.set_title('scatter plot')\n",
        "plt.show()\n",
        "\n",
        "#Heatmap\n",
        "heatmap1_data = pd.pivot_table(fobj, values='Scores',columns='Hours')\n",
        "fig, ax = plt.subplots(figsize=(12,8)) \n",
        "sns.heatmap(heatmap1_data, annot=True, ax=ax, \n",
        "            cmap=\"YlGnBu\")\n",
        "\n"
      ],
      "execution_count": 9,
      "outputs": [
        {
          "output_type": "display_data",
          "data": {
            "image/png": "[encoded data removed]",
            "text/plain": [
              "<Figure size 432x288 with 1 Axes>"
            ]
          },
          "metadata": {
            "tags": [],
            "needs_background": "light"
          }
        },
        {
          "output_type": "execute_result",
          "data": {
            "text/plain": [
              "<matplotlib.axes._subplots.AxesSubplot at 0x7fc69f7338d0>"
            ]
          },
          "metadata": {
            "tags": []
          },
          "execution_count": 9
        },
        {
          "output_type": "display_data",
          "data": {
            "image/png": "[encoded data removed]",
            "text/plain": [
              "<Figure size 864x576 with 2 Axes>"
            ]
          },
          "metadata": {
            "tags": [],
            "needs_background": "light"
          }
        }
      ]
    },
    {
      "cell_type": "markdown",
      "metadata": {
        "id": "V8griOFAvtgl",
        "colab_type": "text"
      },
      "source": [
        "### From the above representations we could see that as the no. of hours for study increased, the scores got better. Now, Lets prepare our prediction model"
      ]
    },
    {
      "cell_type": "code",
      "metadata": {
        "id": "tYK6xldGtlML",
        "colab_type": "code",
        "colab": {
          "base_uri": "https://localhost:8080/",
          "height": 34
        },
        "outputId": "c0fcf091-f0ab-461b-e13d-67e70154c35b"
      },
      "source": [
        "from sklearn.metrics import classification_report, roc_auc_score\n",
        "from sklearn.metrics import accuracy_score \n",
        "from sklearn.model_selection import train_test_split\n",
        "from sklearn.metrics import confusion_matrix\n",
        "from sklearn.linear_model import LinearRegression \n",
        "from sklearn.metrics import r2_score\n",
        "\n",
        "x_train, x_test, y_train, y_test = train_test_split(fobj.Hours, fobj.Scores, test_size=0.33)\n",
        "x_train=np.array(x_train)\n",
        "x_test=np.array(x_test)\n",
        "y_train=np.array(y_train)\n",
        "\n",
        "\n",
        "x_train=x_train.reshape(-1,1)\n",
        "x_test=x_test.reshape(-1,1)\n",
        "y_train=y_train.reshape(-1,1)\n",
        "clf = LinearRegression(normalize=True)\n",
        "clf.fit(x_train,y_train)\n",
        "y_pred = clf.predict(x_test)\n",
        "\n",
        "print(r2_score(y_test,y_pred))\n",
        "\n",
        "#x_test=np.array(x_test)\n",
        "#y_test=np.array(y_test)\n",
        "\n",
        "#x_test=x_test.reshape(-1,1)\n",
        "#y_test=y_test.reshape(-1,1)\n",
        "#print(clf.score(x_test,y_test))"
      ],
      "execution_count": 10,
      "outputs": [
        {
          "output_type": "stream",
          "text": [
            "0.9192289413950736\n"
          ],
          "name": "stdout"
        }
      ]
    },
    {
      "cell_type": "markdown",
      "metadata": {
        "id": "_BgKzOYHAaxZ",
        "colab_type": "text"
      },
      "source": [
        "#### Regression line plot"
      ]
    },
    {
      "cell_type": "code",
      "metadata": {
        "id": "A2ojSYP0AaAR",
        "colab_type": "code",
        "colab": {
          "base_uri": "https://localhost:8080/",
          "height": 285
        },
        "outputId": "7c235666-8024-49ea-93ce-665c2832d4e2"
      },
      "source": [
        "plt.plot(x_test, y_pred , color='red')\n",
        "plt.scatter(fobj.Hours, fobj.Scores,color='blue')\n"
      ],
      "execution_count": 11,
      "outputs": [
        {
          "output_type": "execute_result",
          "data": {
            "text/plain": [
              "<matplotlib.collections.PathCollection at 0x7fc6acf4a9b0>"
            ]
          },
          "metadata": {
            "tags": []
          },
          "execution_count": 11
        },
        {
          "output_type": "display_data",
          "data": {
            "image/png": "[encoded data removed]",
            "text/plain": [
              "<Figure size 432x288 with 1 Axes>"
            ]
          },
          "metadata": {
            "tags": [],
            "needs_background": "light"
          }
        }
      ]
    },
    {
      "cell_type": "markdown",
      "metadata": {
        "id": "qnzOqkWIQU60",
        "colab_type": "text"
      },
      "source": [
        "### Cross-validation of the above Linear regression model"
      ]
    },
    {
      "cell_type": "code",
      "metadata": {
        "id": "-u9mo2xQfR_5",
        "colab_type": "code",
        "colab": {
          "base_uri": "https://localhost:8080/",
          "height": 34
        },
        "outputId": "04ab1854-ad71-4e0d-fadc-24ae58eaa9ba"
      },
      "source": [
        "from sklearn.model_selection import KFold\n",
        "from sklearn.model_selection import cross_val_score\n",
        "\n",
        "kfold = KFold(n_splits=3,random_state=None)\n",
        "result3 = cross_val_score(clf,x_test,y_test, cv=kfold, scoring='r2')\n",
        "\n",
        "result3.mean()\n"
      ],
      "execution_count": 12,
      "outputs": [
        {
          "output_type": "execute_result",
          "data": {
            "text/plain": [
              "0.9058987646239337"
            ]
          },
          "metadata": {
            "tags": []
          },
          "execution_count": 12
        }
      ]
    },
    {
      "cell_type": "markdown",
      "metadata": {
        "id": "RdQQx1ISN5Ot",
        "colab_type": "text"
      },
      "source": [
        "###Comparing hyperparameter optimization method using various techniques like Elasticnet, ElasticNetCV, Ridge Regression, Lasso Regression."
      ]
    },
    {
      "cell_type": "code",
      "metadata": {
        "id": "Bld6MGTCi9KZ",
        "colab_type": "code",
        "colab": {
          "base_uri": "https://localhost:8080/",
          "height": 34
        },
        "outputId": "cac746cf-4baa-4bd4-dd42-747cebbca51c"
      },
      "source": [
        "from sklearn.linear_model import ElasticNet,ElasticNetCV\n",
        "\n",
        "elastModel = ElasticNet(alpha= 0.7, l1_ratio=0.5, fit_intercept=True,normalize=False, max_iter=1000 )\n",
        "elastModel.fit(x_train,y_train)\n",
        "\n",
        "elastModel.score(x_test,y_test)"
      ],
      "execution_count": 13,
      "outputs": [
        {
          "output_type": "execute_result",
          "data": {
            "text/plain": [
              "0.9356410364374117"
            ]
          },
          "metadata": {
            "tags": []
          },
          "execution_count": 13
        }
      ]
    },
    {
      "cell_type": "markdown",
      "metadata": {
        "id": "Uyxon42SQHDV",
        "colab_type": "text"
      },
      "source": [
        "### Cross-validation to further optimize the ElasticNet model"
      ]
    },
    {
      "cell_type": "code",
      "metadata": {
        "id": "kq1_O52LSfnz",
        "colab_type": "code",
        "colab": {
          "base_uri": "https://localhost:8080/",
          "height": 51
        },
        "outputId": "d9d265e7-b2ec-4ef8-9bef-7d745e0adf0d"
      },
      "source": [
        "from sklearn.model_selection import KFold\n",
        "from sklearn.model_selection import cross_val_score\n",
        "from sklearn import linear_model\n",
        "\n",
        "elast=linear_model.ElasticNet()\n",
        "kfold = KFold(n_splits=3,random_state=None)\n",
        "result1 = cross_val_score(elastModel,x_test,y_test, cv=kfold, scoring='r2')\n",
        "result2 = cross_val_score(elast,x_test,y_test, cv=kfold, scoring='r2')\n",
        "print(result1.mean())\n",
        "print(result2.mean())"
      ],
      "execution_count": 14,
      "outputs": [
        {
          "output_type": "stream",
          "text": [
            "0.9120587783057085\n",
            "0.9117879588992066\n"
          ],
          "name": "stdout"
        }
      ]
    },
    {
      "cell_type": "markdown",
      "metadata": {
        "id": "slIQsLAVTFVG",
        "colab_type": "text"
      },
      "source": [
        "## With ElasticNetCVmodel"
      ]
    },
    {
      "cell_type": "code",
      "metadata": {
        "id": "Elf33KLyXQEI",
        "colab_type": "code",
        "colab": {
          "base_uri": "https://localhost:8080/",
          "height": 88
        },
        "outputId": "1c8a0df8-3879-493f-e601-99418c615c0c"
      },
      "source": [
        "elasticCVModel=ElasticNetCV(l1_ratio=[0.1,0.5,0.7,0.9],n_alphas=200,fit_intercept=True,normalize=False,max_iter=1000,cv=5)\n",
        "elasticCVModel.fit(x_train,y_train)\n",
        "\n",
        "elasticCVModel.score(x_test,y_test)\n",
        "\n"
      ],
      "execution_count": 15,
      "outputs": [
        {
          "output_type": "stream",
          "text": [
            "/usr/local/lib/python3.6/dist-packages/sklearn/linear_model/_coordinate_descent.py:1088: DataConversionWarning: A column-vector y was passed when a 1d array was expected. Please change the shape of y to (n_samples, ), for example using ravel().\n",
            "  y = column_or_1d(y, warn=True)\n"
          ],
          "name": "stderr"
        },
        {
          "output_type": "execute_result",
          "data": {
            "text/plain": [
              "0.92544308243671"
            ]
          },
          "metadata": {
            "tags": []
          },
          "execution_count": 15
        }
      ]
    },
    {
      "cell_type": "markdown",
      "metadata": {
        "id": "XUaDDjfrZ79s",
        "colab_type": "text"
      },
      "source": [
        "### Optimization method 2: Gradient Descent with Custom Linear regression model"
      ]
    },
    {
      "cell_type": "markdown",
      "metadata": {
        "id": "qf-MEnQS0Esv",
        "colab_type": "text"
      },
      "source": [
        "## For $\\theta_1$"
      ]
    },
    {
      "cell_type": "code",
      "metadata": {
        "id": "KiaPds-ZnIjZ",
        "colab_type": "code",
        "colab": {
          "base_uri": "https://localhost:8080/",
          "height": 433
        },
        "outputId": "106bb51a-8ba3-48a5-9928-d7384bec4d1c"
      },
      "source": [
        "## Linear Regression \n",
        "import numpy as np\n",
        "\n",
        "n = len(fobj.Hours)\n",
        "y_bar=fobj.Scores.mean()\n",
        "x_val=np.array(fobj.Hours)\n",
        "y_val=np.array(fobj.Scores)\n",
        "\n",
        "x_val=x_val.reshape(-1,1)\n",
        "y_val=y_val.reshape(-1,1)\n",
        "alpha = 0.0001\n",
        "\n",
        "a_0 = np.zeros((n,1))\n",
        "a_1 = np.zeros((n,1))\n",
        "\n",
        "N = 1000\n",
        "theta1list = [0]\n",
        "\n",
        "mean_sq_er=0\n",
        "epochs = 10000\n",
        "while(epochs >0):\n",
        "    y_cap = a_0 + a_1 * x_val\n",
        "    error = y_cap - y_val\n",
        "    mean_sq_er = mean_sq_er+(error**2)\n",
        "    mean_sq_er = mean_sq_er/n\n",
        "    a_0 = a_0 - alpha * 2 * np.sum(error)/n\n",
        "    a_1 = a_1 - alpha * 2 * np.sum(error * x_val)/n\n",
        "    if(epochs%10==0):\n",
        "      theta1list.append(a_0[0][0])\n",
        "    epochs -= 1\n",
        "\n",
        "theta1_true = a_0[0][0]\n",
        "\n",
        "x=np.array(fobj.Hours)\n",
        "y=theta1_true\n",
        "\n",
        "def cost_func(theta1):\n",
        "    \"\"\"The cost function, J(theta1) describing the goodness of fit.\"\"\"\n",
        "    theta1 = np.atleast_2d(np.asarray(theta1))\n",
        "    return np.average((y-theta1)**2, axis=1)\n",
        "\n",
        "J = [cost_func(theta1list[0])[0]]\n",
        "theta_array1=np.array(theta1list)\n",
        "\n",
        "indx=0\n",
        "while(indx<1000):\n",
        "  J.append(cost_func(theta_array1[indx]))\n",
        "  indx+=1\n",
        "\n",
        "print(r2_score(y_val,y_cap))\n",
        "\n",
        "# The plot: LHS is the data, RHS will be the cost function.\n",
        "fig, ax = plt.subplots(nrows=1, ncols=1, figsize=(10,6.15))\n",
        "\n",
        "theta1_grid = np.linspace(-3,7,100)\n",
        "J_grid = cost_func(theta1_grid[:,np.newaxis])\n",
        "ax.plot(theta1_grid, J_grid, 'k')\n",
        "\n",
        "for j in range(1,N):\n",
        "    ax.annotate('', xy=(theta1list[j], J[j]), xytext=(theta1list[j-1], J[j-1]),\n",
        "                   arrowprops={'arrowstyle': '->', 'color': 'r', 'lw': 1},\n",
        "                   va='center', ha='center')\n",
        "    \n",
        "ax.text(a_0[0][0],-1,str(a_0[0][0]))\n",
        "ax.set_xlabel(r'$\\theta_1$')\n",
        "ax.set_ylabel(r'$J(\\theta_1)$')\n",
        "ax.set_title('Cost function')\n",
        "\n",
        "plt.show()"
      ],
      "execution_count": 16,
      "outputs": [
        {
          "output_type": "stream",
          "text": [
            "0.9528323220779761\n"
          ],
          "name": "stdout"
        },
        {
          "output_type": "display_data",
          "data": {
            "image/png": "[encoded data removed]",
            "text/plain": [
              "<Figure size 720x442.8 with 1 Axes>"
            ]
          },
          "metadata": {
            "tags": [],
            "needs_background": "light"
          }
        }
      ]
    },
    {
      "cell_type": "markdown",
      "metadata": {
        "id": "-gdn8vL9_u3T",
        "colab_type": "text"
      },
      "source": [
        "## For $\\theta_2$"
      ]
    },
    {
      "cell_type": "code",
      "metadata": {
        "id": "0-XR3W0_9Rtz",
        "colab_type": "code",
        "colab": {
          "base_uri": "https://localhost:8080/",
          "height": 433
        },
        "outputId": "0874e94a-a4b3-4b3f-83d1-223d40c443df"
      },
      "source": [
        "## Linear Regression \n",
        "import numpy as np\n",
        "\n",
        "n = len(fobj.Hours)\n",
        "y_bar=fobj.Scores.mean()\n",
        "x_val=np.array(fobj.Hours)\n",
        "y_val=np.array(fobj.Scores)\n",
        "\n",
        "x_val=x_val.reshape(-1,1)\n",
        "y_val=y_val.reshape(-1,1)\n",
        "alpha = 0.0001\n",
        "\n",
        "a_0 = np.zeros((n,1))\n",
        "a_1 = np.zeros((n,1))\n",
        "\n",
        "N = 1000\n",
        "theta2list = [0]\n",
        "\n",
        "mean_sq_er=0\n",
        "epochs = 10000\n",
        "while(epochs >0):\n",
        "    y_cap = a_0 + a_1 * x_val\n",
        "    error = y_cap - y_val\n",
        "    mean_sq_er = mean_sq_er+(error**2)\n",
        "    mean_sq_er = mean_sq_er/n\n",
        "    a_0 = a_0 - alpha * 2 * np.sum(error)/n\n",
        "    a_1 = a_1 - alpha * 2 * np.sum(error * x_val)/n\n",
        "    if(epochs%10==0):\n",
        "      theta2list.append(a_1[0][0])\n",
        "    epochs -= 1\n",
        "\n",
        "theta1_true = a_1[0][0]\n",
        "\n",
        "x=np.array(fobj.Hours)\n",
        "y=theta1_true*x\n",
        "\n",
        "def cost_func(theta1):\n",
        "    \"\"\"The cost function, J(theta1) describing the goodness of fit.\"\"\"\n",
        "    theta1 = np.atleast_2d(np.asarray(theta1))\n",
        "    return np.average((y-hypothesis(x, theta1))**2, axis=1)\n",
        "\n",
        "def hypothesis(x, theta1):\n",
        "    \"\"\"Our \"hypothesis function\", a straight line through the origin.\"\"\"\n",
        "    return (theta1*x)\n",
        "\n",
        "J = [cost_func(theta2list[0])[0]]\n",
        "theta_array2=np.array(theta2list)\n",
        "\n",
        "indx=0\n",
        "while(indx<1000):\n",
        "  J.append(cost_func(theta_array2[indx]))\n",
        "  indx+=1\n",
        "\n",
        "print(r2_score(y_val,y_cap))\n",
        "\n",
        "# The plot: LHS is the data, RHS will be the cost function.\n",
        "fig, ax = plt.subplots(nrows=1, ncols=1, figsize=(10,6.15))\n",
        "\n",
        "theta2_grid = np.linspace(-2,22,100)\n",
        "J_grid = cost_func(theta2_grid[:,np.newaxis])\n",
        "ax.plot(theta2_grid, J_grid, 'k')\n",
        "\n",
        "for j in range(1,N):\n",
        "    ax.annotate('', xy=(theta2list[j], J[j]), xytext=(theta2list[j-1], J[j-1]),\n",
        "                   arrowprops={'arrowstyle': '->', 'color': 'r', 'lw': 1},\n",
        "                   va='center', ha='center')\n",
        "    \n",
        "ax.text(a_1[0][0],-200,str(a_1[0][0]))\n",
        "ax.set_xlabel(r'$\\theta_2$')\n",
        "ax.set_ylabel(r'$J(\\theta_2)$')\n",
        "ax.set_title('Cost function')\n",
        "\n",
        "plt.show()"
      ],
      "execution_count": 17,
      "outputs": [
        {
          "output_type": "stream",
          "text": [
            "0.9528323220779761\n"
          ],
          "name": "stdout"
        },
        {
          "output_type": "display_data",
          "data": {
            "image/png": "[encoded data removed]",
            "text/plain": [
              "<Figure size 720x442.8 with 1 Axes>"
            ]
          },
          "metadata": {
            "tags": [],
            "needs_background": "light"
          }
        }
      ]
    },
    {
      "cell_type": "markdown",
      "metadata": {
        "id": "QdcQ5tT3BEr3",
        "colab_type": "text"
      },
      "source": [
        "## For $\\theta_1$ and $\\theta_2$"
      ]
    },
    {
      "cell_type": "code",
      "metadata": {
        "colab_type": "code",
        "id": "qADd54H9N0Vt",
        "colab": {
          "base_uri": "https://localhost:8080/",
          "height": 433
        },
        "outputId": "9064fed7-c133-43fd-a290-052b20c777a6"
      },
      "source": [
        "## Linear Regression \n",
        "import numpy as np\n",
        "\n",
        "n = len(fobj.Hours)\n",
        "y_bar=fobj.Scores.mean()\n",
        "x_val=np.array(fobj.Hours)\n",
        "y_val=np.array(fobj.Scores)\n",
        "\n",
        "x_val=x_val.reshape(-1,1)\n",
        "y_val=y_val.reshape(-1,1)\n",
        "alpha = 0.0001\n",
        "\n",
        "a_0 = np.zeros((n,1))\n",
        "a_1 = np.zeros((n,1))\n",
        "\n",
        "N = 1000\n",
        "theta1list = [0]\n",
        "theta2list = [0]\n",
        "\n",
        "mean_sq_er=0\n",
        "epochs = 10000\n",
        "while(epochs >0):\n",
        "    y_cap = a_0 + a_1 * x_val\n",
        "    error = y_cap - y_val\n",
        "    mean_sq_er = mean_sq_er+(error**2)\n",
        "    mean_sq_er = mean_sq_er/n\n",
        "    a_0 = a_0 - alpha * 2 * np.sum(error)/n\n",
        "    a_1 = a_1 - alpha * 2 * np.sum(error * x_val)/n\n",
        "    #if(epochs%10==0):\n",
        "    theta1list.append(a_0[0][0])\n",
        "    theta2list.append(a_1[0][0])\n",
        "    epochs -= 1\n",
        "\n",
        "theta1_true = a_0[0][0]\n",
        "theta2_true = a_1[0][0]\n",
        "x=np.array(fobj.Hours)\n",
        "y=theta1_true+theta2_true*x\n",
        "\n",
        "def cost_func(theta1,theta2):\n",
        "    \"\"\"The cost function, J(theta1) describing the goodness of fit.\"\"\"\n",
        "    theta1 = np.atleast_2d(np.asarray(theta1))\n",
        "    theta2 = np.atleast_2d(np.asarray(theta2))\n",
        "    return np.average((y-hypothesis(x, theta1,theta2))**2, axis=1)\n",
        "\n",
        "def hypothesis(x, theta1,theta2):\n",
        "    \"\"\"Our \"hypothesis function\", a straight line through the origin.\"\"\"\n",
        "    return (theta1+theta2*x)\n",
        "\n",
        "J = [cost_func(theta1list[0],theta2list[0])[0]]\n",
        "theta_array1=np.array(theta1list)\n",
        "theta_array2=np.array(theta2list)\n",
        "\n",
        "indx=0\n",
        "while(indx<1000):\n",
        "  J.append(cost_func(theta_array1[indx],theta_array2[indx]))\n",
        "  indx+=1\n",
        "\n",
        "print(r2_score(y_val,y_cap))\n",
        "\n",
        "# The plot: LHS is the data, RHS will be the cost function.\n",
        "fig, ax = plt.subplots(nrows=1, ncols=1, figsize=(10,6.15))\n",
        "\n",
        "theta1_grid = np.linspace(-2,7,100)\n",
        "theta2_grid = np.linspace(-5,20,100)\n",
        "J_grid = cost_func(theta1_grid[:,np.newaxis],theta2_grid[:,np.newaxis])\n",
        "ax.plot(theta1_grid, J_grid, 'k')\n",
        "\n",
        "for j in range(1,N):\n",
        "    ax.annotate('', xy=(theta2list[j], J[j]), xytext=(theta2list[j-1], J[j-1]),\n",
        "                   arrowprops={'arrowstyle': '->', 'color': 'r', 'lw': 1},\n",
        "                   va='center', ha='center')\n",
        "    \n",
        "ax.text(a_0[0][0],-10,str(a_0[0][0]))\n",
        "ax.set_xlabel(r'$\\theta_1$')\n",
        "ax.set_ylabel(r'$J(\\theta_1)$')\n",
        "ax.set_title('Cost function')\n",
        "\n",
        "plt.show()"
      ],
      "execution_count": 18,
      "outputs": [
        {
          "output_type": "stream",
          "text": [
            "0.9528323220779761\n"
          ],
          "name": "stdout"
        },
        {
          "output_type": "display_data",
          "data": {
            "image/png": "[encoded data removed]",
            "text/plain": [
              "<Figure size 720x442.8 with 1 Axes>"
            ]
          },
          "metadata": {
            "tags": [],
            "needs_background": "light"
          }
        }
      ]
    },
    {
      "cell_type": "markdown",
      "metadata": {
        "id": "6tbT2HRN2tLV",
        "colab_type": "text"
      },
      "source": [
        "# L1 Regularization of our model"
      ]
    },
    {
      "cell_type": "code",
      "metadata": {
        "id": "ZIS_4bTy2rkY",
        "colab_type": "code",
        "colab": {
          "base_uri": "https://localhost:8080/",
          "height": 34
        },
        "outputId": "d29a6d2b-20ee-4405-9141-9d8de4859a72"
      },
      "source": [
        "## Linear Regression \n",
        "import numpy as np\n",
        "\n",
        "n = len(fobj.Hours)\n",
        "\n",
        "x_val=np.array(fobj.Hours)\n",
        "y_val=np.array(fobj.Scores)\n",
        "\n",
        "x_val=x_val.reshape(-1,1)\n",
        "y_val=y_val.reshape(-1,1)\n",
        "alphaVal = 0.0001\n",
        "lambdaVal=alphaVal\n",
        "a_0 = np.zeros((n,1))\n",
        "a_1 = np.zeros((n,1))\n",
        "\n",
        "#N = 1000\n",
        "#theta1list = [0]\n",
        "\n",
        "mean_sq_er=0\n",
        "epochs = 10000\n",
        "while(epochs >0):\n",
        "    y_cap = a_0 + a_1 * x_val\n",
        "    error = y_cap - y_val\n",
        "    mean_sq_er = mean_sq_er+(error**2)\n",
        "    mean_sq_er = mean_sq_er/n\n",
        "    a_0 = a_0 - alphaVal * (2 * np.sum(error)/n +lambdaVal)\n",
        "    #if (epochs%10==0):\n",
        "    #  theta1.append(a_0[0][0])\n",
        "    #  J.append(cost_func(a_0[0][0]))\n",
        "    a_1 = a_1 - alphaVal * (2 * np.sum(error * x_val)/n + (lambdaVal*x_val))\n",
        "    epochs -= 1\n",
        "\n",
        "print(r2_score(y_val,y_cap))"
      ],
      "execution_count": 19,
      "outputs": [
        {
          "output_type": "stream",
          "text": [
            "0.9528327649137571\n"
          ],
          "name": "stdout"
        }
      ]
    },
    {
      "cell_type": "markdown",
      "metadata": {
        "id": "OEkLGARomYOS",
        "colab_type": "text"
      },
      "source": [
        "## L2 regularization"
      ]
    },
    {
      "cell_type": "code",
      "metadata": {
        "id": "xXcwo0ccGIxu",
        "colab_type": "code",
        "colab": {
          "base_uri": "https://localhost:8080/",
          "height": 34
        },
        "outputId": "b9bf7dbb-320d-475b-f128-e1154f009201"
      },
      "source": [
        "## Linear Regression \n",
        "import numpy as np\n",
        "\n",
        "n = len(fobj.Hours)\n",
        "\n",
        "x_val=np.array(fobj.Hours)\n",
        "y_val=np.array(fobj.Scores)\n",
        "\n",
        "x_val=x_val.reshape(-1,1)\n",
        "y_val=y_val.reshape(-1,1)\n",
        "alphaVal = 0.0001\n",
        "lambdaVal=alphaVal+1\n",
        "a_0 = np.zeros((n,1))\n",
        "a_1 = np.zeros((n,1))\n",
        "\n",
        "#N = 1000\n",
        "#theta1list = [0]\n",
        "\n",
        "mean_sq_er=0\n",
        "epochs = 10000\n",
        "while(epochs >0):\n",
        "    y_cap = a_0 + a_1 * x_val\n",
        "    error = (y_cap * lambdaVal) - y_val\n",
        "    mean_sq_er = mean_sq_er+(error**2)\n",
        "    mean_sq_er = mean_sq_er/n\n",
        "    a_0 = a_0 - alphaVal * (2 * np.sum(error)/n )\n",
        "    #if (epochs%10==0):\n",
        "    #  theta1.append(a_0[0][0])\n",
        "    #  J.append(cost_func(a_0[0][0]))\n",
        "    a_1 = a_1 - alphaVal * (2 * np.sum(error * x_val)/n)\n",
        "    epochs -= 1\n",
        "\n",
        "print(r2_score(y_val,y_cap))"
      ],
      "execution_count": 20,
      "outputs": [
        {
          "output_type": "stream",
          "text": [
            "0.9528322674606754\n"
          ],
          "name": "stdout"
        }
      ]
    },
    {
      "cell_type": "markdown",
      "metadata": {
        "id": "h9-x_udbo2lf",
        "colab_type": "text"
      },
      "source": [
        "## Comparing Actual vs Predicted"
      ]
    },
    {
      "cell_type": "code",
      "metadata": {
        "id": "3hmGYyzRuJfx",
        "colab_type": "code",
        "colab": {
          "base_uri": "https://localhost:8080/",
          "height": 204
        },
        "outputId": "b3632192-b5e0-4d53-a48b-a074f85acc10"
      },
      "source": [
        "# Comparing Actual vs Predicted\n",
        "y_actual=np.array(fobj.Scores)\n",
        "y_predicted=y_cap.ravel()\n",
        "df = pd.DataFrame({'Actual': y_actual, 'Predicted': y_predicted})  \n",
        "df.head()"
      ],
      "execution_count": 21,
      "outputs": [
        {
          "output_type": "execute_result",
          "data": {
            "text/html": [
              "<div>\n",
              "<style scoped>\n",
              "    .dataframe tbody tr th:only-of-type {\n",
              "        vertical-align: middle;\n",
              "    }\n",
              "\n",
              "    .dataframe tbody tr th {\n",
              "        vertical-align: top;\n",
              "    }\n",
              "\n",
              "    .dataframe thead th {\n",
              "        text-align: right;\n",
              "    }\n",
              "</style>\n",
              "<table border=\"1\" class=\"dataframe\">\n",
              "  <thead>\n",
              "    <tr style=\"text-align: right;\">\n",
              "      <th></th>\n",
              "      <th>Actual</th>\n",
              "      <th>Predicted</th>\n",
              "    </tr>\n",
              "  </thead>\n",
              "  <tbody>\n",
              "    <tr>\n",
              "      <th>0</th>\n",
              "      <td>21</td>\n",
              "      <td>26.561184</td>\n",
              "    </tr>\n",
              "    <tr>\n",
              "      <th>1</th>\n",
              "      <td>47</td>\n",
              "      <td>52.228546</td>\n",
              "    </tr>\n",
              "    <tr>\n",
              "      <th>2</th>\n",
              "      <td>27</td>\n",
              "      <td>33.471628</td>\n",
              "    </tr>\n",
              "    <tr>\n",
              "      <th>3</th>\n",
              "      <td>75</td>\n",
              "      <td>85.793558</td>\n",
              "    </tr>\n",
              "    <tr>\n",
              "      <th>4</th>\n",
              "      <td>30</td>\n",
              "      <td>36.433247</td>\n",
              "    </tr>\n",
              "  </tbody>\n",
              "</table>\n",
              "</div>"
            ],
            "text/plain": [
              "   Actual  Predicted\n",
              "0      21  26.561184\n",
              "1      47  52.228546\n",
              "2      27  33.471628\n",
              "3      75  85.793558\n",
              "4      30  36.433247"
            ]
          },
          "metadata": {
            "tags": []
          },
          "execution_count": 21
        }
      ]
    },
    {
      "cell_type": "markdown",
      "metadata": {
        "id": "ztquacR-o7ge",
        "colab_type": "text"
      },
      "source": [
        "## Contour Plot for $\\theta_1$ and $\\theta_2$"
      ]
    },
    {
      "cell_type": "code",
      "metadata": {
        "id": "ojiU_6OMQe1P",
        "colab_type": "code",
        "colab": {
          "base_uri": "https://localhost:8080/",
          "height": 433
        },
        "outputId": "81507ffb-592b-4f4c-940f-7ab54c3ce397"
      },
      "source": [
        "import numpy as np\n",
        "import matplotlib.pyplot as plt\n",
        "\n",
        "n = len(fobj.Hours)\n",
        "\n",
        "x_val=np.array(fobj.Hours)\n",
        "y_val=np.array(fobj.Scores)\n",
        "\n",
        "x_val=x_val.reshape(-1,1)\n",
        "y_val=y_val.reshape(-1,1)\n",
        "alpha = 0.0001\n",
        "\n",
        "a_0 = np.zeros((n,1))\n",
        "a_1 = np.zeros((n,1))\n",
        "\n",
        "N = 1000\n",
        "theta1list = [0]\n",
        "theta2list = [0]\n",
        "\n",
        "mean_sq_er=0\n",
        "epochs = 10000\n",
        "while(epochs >0):\n",
        "    y_cap = a_0 + a_1 * x_val\n",
        "    error = y_cap - y_val\n",
        "    mean_sq_er = mean_sq_er+(error**2)\n",
        "    mean_sq_er = mean_sq_er/n\n",
        "    a_0 = a_0 - alpha * 2 * np.sum(error)/n\n",
        "    a_1 = a_1 - alpha * 2 * np.sum(error * x_val)/n\n",
        "    #if(epochs%10==0):\n",
        "    theta1list.append(a_0[0][0])\n",
        "    theta2list.append(a_1[0][0])\n",
        "    epochs -= 1\n",
        "\n",
        "theta1_true = a_0[0][0]\n",
        "theta2_true = a_1[0][0]\n",
        "x=np.array(fobj.Hours)\n",
        "y=theta1_true+theta2_true*x\n",
        "\n",
        "def cost_func(theta1,theta2):\n",
        "    \"\"\"The cost function, J(theta1) describing the goodness of fit.\"\"\"\n",
        "    theta1 = np.atleast_3d(np.asarray(theta1))\n",
        "    theta2 = np.atleast_3d(np.asarray(theta2))\n",
        "    return np.average((y-hypothesis(x, theta1,theta2))**2, axis=2)\n",
        "\n",
        "def hypothesis(x, theta1,theta2):\n",
        "    \"\"\"Our \"hypothesis function\", a straight line through the origin.\"\"\"\n",
        "    return (theta1+theta2*x)\n",
        "\n",
        "J = [cost_func(theta1list[0],theta2list[0])[0]]\n",
        "theta_array1=np.array(theta1list)\n",
        "theta_array2=np.array(theta2list)\n",
        "\n",
        "indx=0\n",
        "while(indx<1000):\n",
        "  J.append(cost_func(theta_array1[indx],theta_array2[indx]))\n",
        "  indx+=1\n",
        "\n",
        "final_a0=a_0\n",
        "final_a1=a_1\n",
        "\n",
        "print(r2_score(y_val,y_cap))\n",
        "\n",
        "\n",
        "# The plot: LHS is the data, RHS will be the cost function.\n",
        "fig, ax = plt.subplots(nrows=1, ncols=1, figsize=(10,6.15))\n",
        "\n",
        "\n",
        "# First construct a grid of (theta0, theta1) parameter pairs and their\n",
        "# corresponding cost function values.\n",
        "#theta0_grid = np.linspace(-5,10,100)\n",
        "#theta1_grid = np.linspace(5,15,100)\n",
        "\n",
        "theta0_grid=np.linspace(-3, 7, 100)\n",
        "theta1_grid=np.linspace(-2, 22, 100)\n",
        "J_grid = cost_func(theta0_grid[np.newaxis,:,np.newaxis],\n",
        "                   theta1_grid[:,np.newaxis,np.newaxis])\n",
        "  \n",
        "# A labeled contour plot for the RHS cost function\n",
        "X, Y = np.meshgrid(theta0_grid, theta1_grid)\n",
        "contours = ax.contour(X, Y, J_grid, 30)\n",
        "ax.clabel(contours)\n",
        "\n",
        "# The target parameter values indicated on the cost function contour plot\n",
        "ax.scatter([theta1_true]*2,[theta2_true]*2,s=[10,10], color=['k','w'])\n",
        "\n",
        "\n",
        "# Annotate the cost function plot with coloured points indicating the\n",
        "# parameters chosen and red arrows indicating the steps down the gradient.\n",
        "# Also plot the fit function on the LHS data plot in a matching colour.\n",
        "N=1000\n",
        "for j in range(1,N):\n",
        "    ax.annotate('', xy=(theta1list[j], theta2list[j]), xytext=(theta1list[j-1], theta2list[j-1]),\n",
        "                   arrowprops={'arrowstyle': '->', 'color': 'r', 'lw': 1},\n",
        "                   va='center', ha='center')\n",
        "ax.scatter(theta1list,theta2list, s=40, lw=0)\n",
        "\n",
        "# Labels, titles and a legend.\n",
        "ax.set_xlabel(r'$\\theta_0$')\n",
        "ax.set_ylabel(r'$\\theta_1$')\n",
        "ax.set_title('Cost function')\n",
        "plt.show()"
      ],
      "execution_count": 35,
      "outputs": [
        {
          "output_type": "stream",
          "text": [
            "0.9528323220779761\n"
          ],
          "name": "stdout"
        },
        {
          "output_type": "display_data",
          "data": {
            "image/png": "[encoded data removed]",
            "text/plain": [
              "<Figure size 720x442.8 with 1 Axes>"
            ]
          },
          "metadata": {
            "tags": [],
            "needs_background": "light"
          }
        }
      ]
    },
    {
      "cell_type": "markdown",
      "metadata": {
        "id": "JaHJMJfdPuGR",
        "colab_type": "text"
      },
      "source": [
        "# Grid search for optimum alpha and epoch values"
      ]
    },
    {
      "cell_type": "code",
      "metadata": {
        "id": "_YrjUqKzWd_b",
        "colab_type": "code",
        "colab": {}
      },
      "source": [
        "p=[0.001, 0.003, 0.01, 0.03, 0.1, 0.3]\n",
        "q=[5000,10000,50000,100000]\n",
        "pq = list(itertools.product(p,q))\n",
        "\n",
        "for param in pq:\n",
        "  print(param[0],param[1])"
      ],
      "execution_count": null,
      "outputs": []
    },
    {
      "cell_type": "code",
      "metadata": {
        "id": "1h37YyirMAOQ",
        "colab_type": "code",
        "colab": {
          "base_uri": "https://localhost:8080/",
          "height": 1000
        },
        "outputId": "29a15df6-67b3-405f-bee7-82b82aa0b497"
      },
      "source": [
        "import itertools\n",
        "n = len(fobj.Hours)\n",
        "y_bar=fobj.Scores.mean()\n",
        "x_val=np.array(fobj.Hours)\n",
        "y_val=np.array(fobj.Scores)\n",
        "\n",
        "x_val=x_val.reshape(-1,1)\n",
        "y_val=y_val.reshape(-1,1)\n",
        "#alpha = 0.0001\n",
        "\n",
        "a_0 = np.zeros((n,1))\n",
        "a_1 = np.zeros((n,1))\n",
        "\n",
        "mean_sq_er=0\n",
        "#epochs = 100000\n",
        "def myLinearRegression(alpha,epochs,a_0,a_1,mean_sq_er,n):\n",
        "  while(epochs >0):\n",
        "      y_cap = a_0 + a_1 * x_val\n",
        "      error = y_cap - y_val\n",
        "      mean_sq_er = mean_sq_er+(error**2)\n",
        "      mean_sq_er = mean_sq_er/n\n",
        "      a_0 = a_0 - alpha * 2 * np.sum(error)/n \n",
        "      a_1 = a_1 - alpha * 2 * np.sum(error * x_val)/n\n",
        "      epochs -= 1\n",
        "  return y_cap\n",
        "\n",
        "p=[0.001, 0.003, 0.01, 0.03, 0.1, 0.3]\n",
        "q=[5000,10000,50000,100000]\n",
        "pq = list(itertools.product(p,q))\n",
        "for param in pq:\n",
        "  try: \n",
        "    prediction_value = myLinearRegression(param[0],param[1],a_0,a_1,mean_sq_er,n)\n",
        "    print(param[0],param[1])\n",
        "    print(r2_score(y_val,prediction_value))\n",
        "    print(\"   \")\n",
        "  except:\n",
        "        continue\n",
        "\n"
      ],
      "execution_count": 32,
      "outputs": [
        {
          "output_type": "stream",
          "text": [
            "0.001 5000\n",
            "0.9529427407167019\n",
            "   \n",
            "0.001 10000\n",
            "0.9529480773099476\n",
            "   \n",
            "0.001 50000\n",
            "0.9529481969048356\n",
            "   \n",
            "0.001 100000\n",
            "0.9529481969048356\n",
            "   \n",
            "0.003 5000\n",
            "0.9529481942908865\n",
            "   \n",
            "0.003 10000\n",
            "0.9529481969048081\n",
            "   \n",
            "0.003 50000\n",
            "0.9529481969048356\n",
            "   \n",
            "0.003 100000\n",
            "0.9529481969048356\n",
            "   \n",
            "0.01 5000\n",
            "0.9529481969048356\n",
            "   \n",
            "0.01 10000\n",
            "0.9529481969048356\n",
            "   \n",
            "0.01 50000\n",
            "0.9529481969048356\n",
            "   \n",
            "0.01 100000\n",
            "0.9529481969048356\n",
            "   \n",
            "0.03 5000\n",
            "0.9529481969048356\n",
            "   \n",
            "0.03 10000\n",
            "0.9529481969048356\n",
            "   \n",
            "0.03 50000\n",
            "0.9529481969048356\n",
            "   \n",
            "0.03 100000\n",
            "0.9529481969048356\n",
            "   \n",
            "0.1 5000\n"
          ],
          "name": "stdout"
        },
        {
          "output_type": "stream",
          "text": [
            "/usr/local/lib/python3.6/dist-packages/ipykernel_launcher.py:23: RuntimeWarning: overflow encountered in square\n",
            "/usr/local/lib/python3.6/dist-packages/numpy/core/fromnumeric.py:90: RuntimeWarning: overflow encountered in reduce\n",
            "  return ufunc.reduce(obj, axis, dtype, out, **passkwargs)\n",
            "/usr/local/lib/python3.6/dist-packages/ipykernel_launcher.py:26: RuntimeWarning: invalid value encountered in subtract\n",
            "/usr/local/lib/python3.6/dist-packages/ipykernel_launcher.py:23: RuntimeWarning: overflow encountered in square\n",
            "/usr/local/lib/python3.6/dist-packages/numpy/core/fromnumeric.py:90: RuntimeWarning: overflow encountered in reduce\n",
            "  return ufunc.reduce(obj, axis, dtype, out, **passkwargs)\n",
            "/usr/local/lib/python3.6/dist-packages/ipykernel_launcher.py:26: RuntimeWarning: invalid value encountered in subtract\n"
          ],
          "name": "stderr"
        },
        {
          "output_type": "stream",
          "text": [
            "0.1 10000\n"
          ],
          "name": "stdout"
        },
        {
          "output_type": "stream",
          "text": [
            "/usr/local/lib/python3.6/dist-packages/ipykernel_launcher.py:23: RuntimeWarning: overflow encountered in square\n",
            "/usr/local/lib/python3.6/dist-packages/numpy/core/fromnumeric.py:90: RuntimeWarning: overflow encountered in reduce\n",
            "  return ufunc.reduce(obj, axis, dtype, out, **passkwargs)\n",
            "/usr/local/lib/python3.6/dist-packages/ipykernel_launcher.py:26: RuntimeWarning: invalid value encountered in subtract\n"
          ],
          "name": "stderr"
        },
        {
          "output_type": "stream",
          "text": [
            "0.1 50000\n"
          ],
          "name": "stdout"
        },
        {
          "output_type": "stream",
          "text": [
            "/usr/local/lib/python3.6/dist-packages/ipykernel_launcher.py:23: RuntimeWarning: overflow encountered in square\n",
            "/usr/local/lib/python3.6/dist-packages/numpy/core/fromnumeric.py:90: RuntimeWarning: overflow encountered in reduce\n",
            "  return ufunc.reduce(obj, axis, dtype, out, **passkwargs)\n",
            "/usr/local/lib/python3.6/dist-packages/ipykernel_launcher.py:26: RuntimeWarning: invalid value encountered in subtract\n"
          ],
          "name": "stderr"
        },
        {
          "output_type": "stream",
          "text": [
            "0.1 100000\n",
            "0.3 5000\n"
          ],
          "name": "stdout"
        },
        {
          "output_type": "stream",
          "text": [
            "/usr/local/lib/python3.6/dist-packages/ipykernel_launcher.py:23: RuntimeWarning: overflow encountered in square\n",
            "/usr/local/lib/python3.6/dist-packages/numpy/core/fromnumeric.py:90: RuntimeWarning: overflow encountered in reduce\n",
            "  return ufunc.reduce(obj, axis, dtype, out, **passkwargs)\n",
            "/usr/local/lib/python3.6/dist-packages/ipykernel_launcher.py:26: RuntimeWarning: invalid value encountered in subtract\n",
            "/usr/local/lib/python3.6/dist-packages/ipykernel_launcher.py:23: RuntimeWarning: overflow encountered in square\n",
            "/usr/local/lib/python3.6/dist-packages/numpy/core/fromnumeric.py:90: RuntimeWarning: overflow encountered in reduce\n",
            "  return ufunc.reduce(obj, axis, dtype, out, **passkwargs)\n",
            "/usr/local/lib/python3.6/dist-packages/ipykernel_launcher.py:26: RuntimeWarning: invalid value encountered in subtract\n"
          ],
          "name": "stderr"
        },
        {
          "output_type": "stream",
          "text": [
            "0.3 10000\n"
          ],
          "name": "stdout"
        },
        {
          "output_type": "stream",
          "text": [
            "/usr/local/lib/python3.6/dist-packages/ipykernel_launcher.py:23: RuntimeWarning: overflow encountered in square\n",
            "/usr/local/lib/python3.6/dist-packages/numpy/core/fromnumeric.py:90: RuntimeWarning: overflow encountered in reduce\n",
            "  return ufunc.reduce(obj, axis, dtype, out, **passkwargs)\n",
            "/usr/local/lib/python3.6/dist-packages/ipykernel_launcher.py:26: RuntimeWarning: invalid value encountered in subtract\n"
          ],
          "name": "stderr"
        },
        {
          "output_type": "stream",
          "text": [
            "0.3 50000\n"
          ],
          "name": "stdout"
        },
        {
          "output_type": "stream",
          "text": [
            "/usr/local/lib/python3.6/dist-packages/ipykernel_launcher.py:23: RuntimeWarning: overflow encountered in square\n",
            "/usr/local/lib/python3.6/dist-packages/numpy/core/fromnumeric.py:90: RuntimeWarning: overflow encountered in reduce\n",
            "  return ufunc.reduce(obj, axis, dtype, out, **passkwargs)\n",
            "/usr/local/lib/python3.6/dist-packages/ipykernel_launcher.py:26: RuntimeWarning: invalid value encountered in subtract\n"
          ],
          "name": "stderr"
        },
        {
          "output_type": "stream",
          "text": [
            "0.3 100000\n"
          ],
          "name": "stdout"
        }
      ]
    },
    {
      "cell_type": "markdown",
      "metadata": {
        "id": "trDGE8qqtlqU",
        "colab_type": "text"
      },
      "source": [
        "### What will be predicted score if a student study for 9.25 hrs in a day?"
      ]
    },
    {
      "cell_type": "code",
      "metadata": {
        "id": "7vngyekRLkWN",
        "colab_type": "code",
        "colab": {
          "base_uri": "https://localhost:8080/",
          "height": 68
        },
        "outputId": "bb56cf90-9ecf-4815-ab5c-f1a5f1ac0763"
      },
      "source": [
        "pred1=clf.predict([[9.25]])\n",
        "pred2=elastModel.predict([[9.25]])\n",
        "pred3=elasticCVModel.predict([[9.25]])\n",
        "\n",
        "print(\"Student score according to Simple Linear regression model: \", str(round(pred1[0][0],2)),\" marks\")\n",
        "print(\"Student score according to Elastic model: \", str(round(pred2[0],2)),\" marks\")\n",
        "print(\"Student score according to ElasticCV model: \", str(round(pred3[0],2)),\" marks\")"
      ],
      "execution_count": 23,
      "outputs": [
        {
          "output_type": "stream",
          "text": [
            "Student score according to Simple Linear regression model:  97.05  marks\n",
            "Student score according to Elastic model:  93.54  marks\n",
            "Student score according to ElasticCV model:  96.03  marks\n"
          ],
          "name": "stdout"
        }
      ]
    },
    {
      "cell_type": "code",
      "metadata": {
        "id": "bkSAQkjrKZbc",
        "colab_type": "code",
        "colab": {
          "base_uri": "https://localhost:8080/",
          "height": 34
        },
        "outputId": "072024d5-a7c2-425f-8bd4-886dd98b94ba"
      },
      "source": [
        "final_a0[0][0]"
      ],
      "execution_count": 37,
      "outputs": [
        {
          "output_type": "execute_result",
          "data": {
            "text/plain": [
              "1.8812166000849257"
            ]
          },
          "metadata": {
            "tags": []
          },
          "execution_count": 37
        }
      ]
    },
    {
      "cell_type": "code",
      "metadata": {
        "id": "pVYScNNfKYhY",
        "colab_type": "code",
        "colab": {}
      },
      "source": [
        ""
      ],
      "execution_count": null,
      "outputs": []
    },
    {
      "cell_type": "code",
      "metadata": {
        "id": "rfhbLV0Mk7qs",
        "colab_type": "code",
        "colab": {
          "base_uri": "https://localhost:8080/",
          "height": 34
        },
        "outputId": "2f5099da-89b0-4865-929c-51164ac6fe33"
      },
      "source": [
        "student_score=final_a0[0][0] + final_a1[0][0] * (9.25)\n",
        "\n",
        "print(\"The Student may score :\",str(round(student_score,2)),\" marks\")"
      ],
      "execution_count": 38,
      "outputs": [
        {
          "output_type": "stream",
          "text": [
            "The Student may score : 93.21  marks\n"
          ],
          "name": "stdout"
        }
      ]
    }
  ]
}