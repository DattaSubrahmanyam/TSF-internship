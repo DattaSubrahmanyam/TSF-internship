{
  "nbformat": 4,
  "nbformat_minor": 0,
  "metadata": {
    "colab": {
      "name": "TSF_Task-2_Y. Datta Subrahmanyam.ipynb",
      "provenance": [],
      "collapsed_sections": []
    },
    "kernelspec": {
      "name": "python3",
      "display_name": "Python 3"
    }
  },
  "cells": [
    {
      "cell_type": "markdown",
      "metadata": {
        "id": "mPh2BXFxR20H",
        "colab_type": "text"
      },
      "source": [
        "#Task -2 "
      ]
    },
    {
      "cell_type": "markdown",
      "metadata": {
        "id": "_W3sQ5lvR7LQ",
        "colab_type": "text"
      },
      "source": [
        "## To explore Supervised Machine Learning\n",
        "### Predict the percentage of marks that a student is expected to score based upon the number of hours they studied using Linear regression."
      ]
    },
    {
      "cell_type": "markdown",
      "metadata": {
        "id": "pJkjaP7KSmQI",
        "colab_type": "text"
      },
      "source": [
        "#### Data set "
      ]
    },
    {
      "cell_type": "code",
      "metadata": {
        "id": "blCwTJ7YR5_Z",
        "colab_type": "code",
        "colab": {}
      },
      "source": [
        "import numpy as np\n",
        "import pandas as pd\n",
        "\n",
        "fobj=pd.read_csv(\"https://raw.githubusercontent.com/AdiPersonalWorks/Random/master/student_scores%20-%20student_scores.csv\")"
      ],
      "execution_count": null,
      "outputs": []
    },
    {
      "cell_type": "code",
      "metadata": {
        "id": "958FV2ucUD4p",
        "colab_type": "code",
        "colab": {
          "base_uri": "https://localhost:8080/",
          "height": 824
        },
        "outputId": "cc655e03-a889-4187-ecb4-065697c25cf5"
      },
      "source": [
        "fobj"
      ],
      "execution_count": null,
      "outputs": [
        {
          "output_type": "execute_result",
          "data": {
            "text/html": [
              "<div>\n",
              "<style scoped>\n",
              "    .dataframe tbody tr th:only-of-type {\n",
              "        vertical-align: middle;\n",
              "    }\n",
              "\n",
              "    .dataframe tbody tr th {\n",
              "        vertical-align: top;\n",
              "    }\n",
              "\n",
              "    .dataframe thead th {\n",
              "        text-align: right;\n",
              "    }\n",
              "</style>\n",
              "<table border=\"1\" class=\"dataframe\">\n",
              "  <thead>\n",
              "    <tr style=\"text-align: right;\">\n",
              "      <th></th>\n",
              "      <th>Hours</th>\n",
              "      <th>Scores</th>\n",
              "    </tr>\n",
              "  </thead>\n",
              "  <tbody>\n",
              "    <tr>\n",
              "      <th>0</th>\n",
              "      <td>2.5</td>\n",
              "      <td>21</td>\n",
              "    </tr>\n",
              "    <tr>\n",
              "      <th>1</th>\n",
              "      <td>5.1</td>\n",
              "      <td>47</td>\n",
              "    </tr>\n",
              "    <tr>\n",
              "      <th>2</th>\n",
              "      <td>3.2</td>\n",
              "      <td>27</td>\n",
              "    </tr>\n",
              "    <tr>\n",
              "      <th>3</th>\n",
              "      <td>8.5</td>\n",
              "      <td>75</td>\n",
              "    </tr>\n",
              "    <tr>\n",
              "      <th>4</th>\n",
              "      <td>3.5</td>\n",
              "      <td>30</td>\n",
              "    </tr>\n",
              "    <tr>\n",
              "      <th>5</th>\n",
              "      <td>1.5</td>\n",
              "      <td>20</td>\n",
              "    </tr>\n",
              "    <tr>\n",
              "      <th>6</th>\n",
              "      <td>9.2</td>\n",
              "      <td>88</td>\n",
              "    </tr>\n",
              "    <tr>\n",
              "      <th>7</th>\n",
              "      <td>5.5</td>\n",
              "      <td>60</td>\n",
              "    </tr>\n",
              "    <tr>\n",
              "      <th>8</th>\n",
              "      <td>8.3</td>\n",
              "      <td>81</td>\n",
              "    </tr>\n",
              "    <tr>\n",
              "      <th>9</th>\n",
              "      <td>2.7</td>\n",
              "      <td>25</td>\n",
              "    </tr>\n",
              "    <tr>\n",
              "      <th>10</th>\n",
              "      <td>7.7</td>\n",
              "      <td>85</td>\n",
              "    </tr>\n",
              "    <tr>\n",
              "      <th>11</th>\n",
              "      <td>5.9</td>\n",
              "      <td>62</td>\n",
              "    </tr>\n",
              "    <tr>\n",
              "      <th>12</th>\n",
              "      <td>4.5</td>\n",
              "      <td>41</td>\n",
              "    </tr>\n",
              "    <tr>\n",
              "      <th>13</th>\n",
              "      <td>3.3</td>\n",
              "      <td>42</td>\n",
              "    </tr>\n",
              "    <tr>\n",
              "      <th>14</th>\n",
              "      <td>1.1</td>\n",
              "      <td>17</td>\n",
              "    </tr>\n",
              "    <tr>\n",
              "      <th>15</th>\n",
              "      <td>8.9</td>\n",
              "      <td>95</td>\n",
              "    </tr>\n",
              "    <tr>\n",
              "      <th>16</th>\n",
              "      <td>2.5</td>\n",
              "      <td>30</td>\n",
              "    </tr>\n",
              "    <tr>\n",
              "      <th>17</th>\n",
              "      <td>1.9</td>\n",
              "      <td>24</td>\n",
              "    </tr>\n",
              "    <tr>\n",
              "      <th>18</th>\n",
              "      <td>6.1</td>\n",
              "      <td>67</td>\n",
              "    </tr>\n",
              "    <tr>\n",
              "      <th>19</th>\n",
              "      <td>7.4</td>\n",
              "      <td>69</td>\n",
              "    </tr>\n",
              "    <tr>\n",
              "      <th>20</th>\n",
              "      <td>2.7</td>\n",
              "      <td>30</td>\n",
              "    </tr>\n",
              "    <tr>\n",
              "      <th>21</th>\n",
              "      <td>4.8</td>\n",
              "      <td>54</td>\n",
              "    </tr>\n",
              "    <tr>\n",
              "      <th>22</th>\n",
              "      <td>3.8</td>\n",
              "      <td>35</td>\n",
              "    </tr>\n",
              "    <tr>\n",
              "      <th>23</th>\n",
              "      <td>6.9</td>\n",
              "      <td>76</td>\n",
              "    </tr>\n",
              "    <tr>\n",
              "      <th>24</th>\n",
              "      <td>7.8</td>\n",
              "      <td>86</td>\n",
              "    </tr>\n",
              "  </tbody>\n",
              "</table>\n",
              "</div>"
            ],
            "text/plain": [
              "    Hours  Scores\n",
              "0     2.5      21\n",
              "1     5.1      47\n",
              "2     3.2      27\n",
              "3     8.5      75\n",
              "4     3.5      30\n",
              "5     1.5      20\n",
              "6     9.2      88\n",
              "7     5.5      60\n",
              "8     8.3      81\n",
              "9     2.7      25\n",
              "10    7.7      85\n",
              "11    5.9      62\n",
              "12    4.5      41\n",
              "13    3.3      42\n",
              "14    1.1      17\n",
              "15    8.9      95\n",
              "16    2.5      30\n",
              "17    1.9      24\n",
              "18    6.1      67\n",
              "19    7.4      69\n",
              "20    2.7      30\n",
              "21    4.8      54\n",
              "22    3.8      35\n",
              "23    6.9      76\n",
              "24    7.8      86"
            ]
          },
          "metadata": {
            "tags": []
          },
          "execution_count": 27
        }
      ]
    },
    {
      "cell_type": "markdown",
      "metadata": {
        "id": "qZjTpC0JVfWL",
        "colab_type": "text"
      },
      "source": [
        "### Understanding Data set"
      ]
    },
    {
      "cell_type": "markdown",
      "metadata": {
        "id": "Wd0Z7HJKNR7K",
        "colab_type": "text"
      },
      "source": [
        "#### What does the data speak statistically !"
      ]
    },
    {
      "cell_type": "code",
      "metadata": {
        "id": "MbmE7VweNIoE",
        "colab_type": "code",
        "colab": {
          "base_uri": "https://localhost:8080/",
          "height": 297
        },
        "outputId": "ae760555-807a-4d28-bf7f-ad0a1b045e75"
      },
      "source": [
        "fobj.describe()"
      ],
      "execution_count": null,
      "outputs": [
        {
          "output_type": "execute_result",
          "data": {
            "text/html": [
              "<div>\n",
              "<style scoped>\n",
              "    .dataframe tbody tr th:only-of-type {\n",
              "        vertical-align: middle;\n",
              "    }\n",
              "\n",
              "    .dataframe tbody tr th {\n",
              "        vertical-align: top;\n",
              "    }\n",
              "\n",
              "    .dataframe thead th {\n",
              "        text-align: right;\n",
              "    }\n",
              "</style>\n",
              "<table border=\"1\" class=\"dataframe\">\n",
              "  <thead>\n",
              "    <tr style=\"text-align: right;\">\n",
              "      <th></th>\n",
              "      <th>Hours</th>\n",
              "      <th>Scores</th>\n",
              "    </tr>\n",
              "  </thead>\n",
              "  <tbody>\n",
              "    <tr>\n",
              "      <th>count</th>\n",
              "      <td>25.000000</td>\n",
              "      <td>25.000000</td>\n",
              "    </tr>\n",
              "    <tr>\n",
              "      <th>mean</th>\n",
              "      <td>5.012000</td>\n",
              "      <td>51.480000</td>\n",
              "    </tr>\n",
              "    <tr>\n",
              "      <th>std</th>\n",
              "      <td>2.525094</td>\n",
              "      <td>25.286887</td>\n",
              "    </tr>\n",
              "    <tr>\n",
              "      <th>min</th>\n",
              "      <td>1.100000</td>\n",
              "      <td>17.000000</td>\n",
              "    </tr>\n",
              "    <tr>\n",
              "      <th>25%</th>\n",
              "      <td>2.700000</td>\n",
              "      <td>30.000000</td>\n",
              "    </tr>\n",
              "    <tr>\n",
              "      <th>50%</th>\n",
              "      <td>4.800000</td>\n",
              "      <td>47.000000</td>\n",
              "    </tr>\n",
              "    <tr>\n",
              "      <th>75%</th>\n",
              "      <td>7.400000</td>\n",
              "      <td>75.000000</td>\n",
              "    </tr>\n",
              "    <tr>\n",
              "      <th>max</th>\n",
              "      <td>9.200000</td>\n",
              "      <td>95.000000</td>\n",
              "    </tr>\n",
              "  </tbody>\n",
              "</table>\n",
              "</div>"
            ],
            "text/plain": [
              "           Hours     Scores\n",
              "count  25.000000  25.000000\n",
              "mean    5.012000  51.480000\n",
              "std     2.525094  25.286887\n",
              "min     1.100000  17.000000\n",
              "25%     2.700000  30.000000\n",
              "50%     4.800000  47.000000\n",
              "75%     7.400000  75.000000\n",
              "max     9.200000  95.000000"
            ]
          },
          "metadata": {
            "tags": []
          },
          "execution_count": 28
        }
      ]
    },
    {
      "cell_type": "code",
      "metadata": {
        "id": "lJTrTqvU0Pig",
        "colab_type": "code",
        "colab": {
          "base_uri": "https://localhost:8080/",
          "height": 824
        },
        "outputId": "95d30639-a044-4b1f-dbbb-94b1484d2184"
      },
      "source": [
        "fobj=fobj.sort_values(\"Hours\",axis=0,ascending=True)\n",
        "fobj"
      ],
      "execution_count": null,
      "outputs": [
        {
          "output_type": "execute_result",
          "data": {
            "text/html": [
              "<div>\n",
              "<style scoped>\n",
              "    .dataframe tbody tr th:only-of-type {\n",
              "        vertical-align: middle;\n",
              "    }\n",
              "\n",
              "    .dataframe tbody tr th {\n",
              "        vertical-align: top;\n",
              "    }\n",
              "\n",
              "    .dataframe thead th {\n",
              "        text-align: right;\n",
              "    }\n",
              "</style>\n",
              "<table border=\"1\" class=\"dataframe\">\n",
              "  <thead>\n",
              "    <tr style=\"text-align: right;\">\n",
              "      <th></th>\n",
              "      <th>Hours</th>\n",
              "      <th>Scores</th>\n",
              "    </tr>\n",
              "  </thead>\n",
              "  <tbody>\n",
              "    <tr>\n",
              "      <th>14</th>\n",
              "      <td>1.1</td>\n",
              "      <td>17</td>\n",
              "    </tr>\n",
              "    <tr>\n",
              "      <th>5</th>\n",
              "      <td>1.5</td>\n",
              "      <td>20</td>\n",
              "    </tr>\n",
              "    <tr>\n",
              "      <th>17</th>\n",
              "      <td>1.9</td>\n",
              "      <td>24</td>\n",
              "    </tr>\n",
              "    <tr>\n",
              "      <th>0</th>\n",
              "      <td>2.5</td>\n",
              "      <td>21</td>\n",
              "    </tr>\n",
              "    <tr>\n",
              "      <th>16</th>\n",
              "      <td>2.5</td>\n",
              "      <td>30</td>\n",
              "    </tr>\n",
              "    <tr>\n",
              "      <th>20</th>\n",
              "      <td>2.7</td>\n",
              "      <td>30</td>\n",
              "    </tr>\n",
              "    <tr>\n",
              "      <th>9</th>\n",
              "      <td>2.7</td>\n",
              "      <td>25</td>\n",
              "    </tr>\n",
              "    <tr>\n",
              "      <th>2</th>\n",
              "      <td>3.2</td>\n",
              "      <td>27</td>\n",
              "    </tr>\n",
              "    <tr>\n",
              "      <th>13</th>\n",
              "      <td>3.3</td>\n",
              "      <td>42</td>\n",
              "    </tr>\n",
              "    <tr>\n",
              "      <th>4</th>\n",
              "      <td>3.5</td>\n",
              "      <td>30</td>\n",
              "    </tr>\n",
              "    <tr>\n",
              "      <th>22</th>\n",
              "      <td>3.8</td>\n",
              "      <td>35</td>\n",
              "    </tr>\n",
              "    <tr>\n",
              "      <th>12</th>\n",
              "      <td>4.5</td>\n",
              "      <td>41</td>\n",
              "    </tr>\n",
              "    <tr>\n",
              "      <th>21</th>\n",
              "      <td>4.8</td>\n",
              "      <td>54</td>\n",
              "    </tr>\n",
              "    <tr>\n",
              "      <th>1</th>\n",
              "      <td>5.1</td>\n",
              "      <td>47</td>\n",
              "    </tr>\n",
              "    <tr>\n",
              "      <th>7</th>\n",
              "      <td>5.5</td>\n",
              "      <td>60</td>\n",
              "    </tr>\n",
              "    <tr>\n",
              "      <th>11</th>\n",
              "      <td>5.9</td>\n",
              "      <td>62</td>\n",
              "    </tr>\n",
              "    <tr>\n",
              "      <th>18</th>\n",
              "      <td>6.1</td>\n",
              "      <td>67</td>\n",
              "    </tr>\n",
              "    <tr>\n",
              "      <th>23</th>\n",
              "      <td>6.9</td>\n",
              "      <td>76</td>\n",
              "    </tr>\n",
              "    <tr>\n",
              "      <th>19</th>\n",
              "      <td>7.4</td>\n",
              "      <td>69</td>\n",
              "    </tr>\n",
              "    <tr>\n",
              "      <th>10</th>\n",
              "      <td>7.7</td>\n",
              "      <td>85</td>\n",
              "    </tr>\n",
              "    <tr>\n",
              "      <th>24</th>\n",
              "      <td>7.8</td>\n",
              "      <td>86</td>\n",
              "    </tr>\n",
              "    <tr>\n",
              "      <th>8</th>\n",
              "      <td>8.3</td>\n",
              "      <td>81</td>\n",
              "    </tr>\n",
              "    <tr>\n",
              "      <th>3</th>\n",
              "      <td>8.5</td>\n",
              "      <td>75</td>\n",
              "    </tr>\n",
              "    <tr>\n",
              "      <th>15</th>\n",
              "      <td>8.9</td>\n",
              "      <td>95</td>\n",
              "    </tr>\n",
              "    <tr>\n",
              "      <th>6</th>\n",
              "      <td>9.2</td>\n",
              "      <td>88</td>\n",
              "    </tr>\n",
              "  </tbody>\n",
              "</table>\n",
              "</div>"
            ],
            "text/plain": [
              "    Hours  Scores\n",
              "14    1.1      17\n",
              "5     1.5      20\n",
              "17    1.9      24\n",
              "0     2.5      21\n",
              "16    2.5      30\n",
              "20    2.7      30\n",
              "9     2.7      25\n",
              "2     3.2      27\n",
              "13    3.3      42\n",
              "4     3.5      30\n",
              "22    3.8      35\n",
              "12    4.5      41\n",
              "21    4.8      54\n",
              "1     5.1      47\n",
              "7     5.5      60\n",
              "11    5.9      62\n",
              "18    6.1      67\n",
              "23    6.9      76\n",
              "19    7.4      69\n",
              "10    7.7      85\n",
              "24    7.8      86\n",
              "8     8.3      81\n",
              "3     8.5      75\n",
              "15    8.9      95\n",
              "6     9.2      88"
            ]
          },
          "metadata": {
            "tags": []
          },
          "execution_count": 24
        }
      ]
    },
    {
      "cell_type": "code",
      "metadata": {
        "id": "3JHvOdlLzpR1",
        "colab_type": "code",
        "colab": {
          "base_uri": "https://localhost:8080/",
          "height": 68
        },
        "outputId": "033beec4-d552-4da8-cf5a-dcb2122a4d33"
      },
      "source": [
        "fobj.median()"
      ],
      "execution_count": null,
      "outputs": [
        {
          "output_type": "execute_result",
          "data": {
            "text/plain": [
              "Hours      4.8\n",
              "Scores    47.0\n",
              "dtype: float64"
            ]
          },
          "metadata": {
            "tags": []
          },
          "execution_count": 23
        }
      ]
    },
    {
      "cell_type": "code",
      "metadata": {
        "id": "SIr4WUb9mjwo",
        "colab_type": "code",
        "colab": {
          "base_uri": "https://localhost:8080/",
          "height": 388
        },
        "outputId": "f73e6234-ac2a-41a6-db77-1a17fc8c97a1"
      },
      "source": [
        "from scipy.stats import skew, kurtosis\n",
        "import seaborn as sns; \n",
        "import matplotlib.pyplot as plt\n",
        "\n",
        "f, axes = plt.subplots(1, 2, figsize=(20, 6), sharex=True)\n",
        "sns.distplot(fobj.Hours,kde=True,color=\"blue\",ax=axes[0])\n",
        "sns.distplot(fobj.Scores,kde=True, color=\"olive\", ax=axes[1])\n",
        "\n",
        "for i, ax in enumerate(axes.reshape(-1)):\n",
        "  ax.text(x=0.97, y=0.97, transform=ax.transAxes, s=\"Skewness: %f\" % fobj.iloc[:,i].skew(), \n",
        "            fontweight='demibold', fontsize=10, verticalalignment='top', horizontalalignment='right', \n",
        "            backgroundcolor='white', color='xkcd:poo brown')\n",
        "  ax.text(x=0.97, y=0.91, transform=ax.transAxes, s=\"Kurtosis: %f\" % fobj.iloc[:,i].kurt(),\n",
        "        fontweight='demibold', fontsize=10, verticalalignment='top', horizontalalignment='right',\n",
        "        backgroundcolor='white', color='xkcd:dried blood')\n",
        "\n",
        "Hours_Central_tendency=[fobj.Hours.mean(),fobj.Hours.median()]\n",
        "Scores_Central_tendency=[fobj.Scores.mean(),fobj.Scores.median()]\n",
        "\n",
        "def plotTendencies(axs,i):\n",
        "  if(i==0):\n",
        "    for measurement1 in Hours_Central_tendency:\n",
        "      axs.axvline(measurement1, color='y', linestyle='--')\n",
        "      ax.xaxis.set_major_locator(plt.MaxNLocator(25))\n",
        "  if(i==1):\n",
        "    for measurement2 in Scores_Central_tendency:\n",
        "      axs.axvline(measurement2, color='g', linestyle='-')\n",
        "\n",
        "for i,ax in enumerate(axes.reshape(-1)):\n",
        "  plotTendencies(ax,i)\n",
        "\n"
      ],
      "execution_count": null,
      "outputs": [
        {
          "output_type": "display_data",
          "data": {
            "image/png": "[encoded data removed]",
            "text/plain": [
              "<Figure size 1440x432 with 2 Axes>"
            ]
          },
          "metadata": {
            "tags": [],
            "needs_background": "light"
          }
        }
      ]
    },
    {
      "cell_type": "markdown",
      "metadata": {
        "id": "daneu4p8k-Oc",
        "colab_type": "text"
      },
      "source": [
        "## Collinearity check between the independent variables in the dataset"
      ]
    },
    {
      "cell_type": "code",
      "metadata": {
        "id": "yRy0E3nSAQDJ",
        "colab_type": "code",
        "colab": {
          "base_uri": "https://localhost:8080/",
          "height": 34
        },
        "outputId": "5ba39b0c-158e-412c-bf1c-21886e2368f2"
      },
      "source": [
        "correlation_matrix = np.corrcoef(fobj.Hours, fobj.Scores)\n",
        "correlation_xy = correlation_matrix[0,1]\n",
        "r_squared = correlation_xy**2\n",
        "print(r_squared)\n"
      ],
      "execution_count": null,
      "outputs": [
        {
          "output_type": "stream",
          "text": [
            "0.9529481969048351\n"
          ],
          "name": "stdout"
        }
      ]
    },
    {
      "cell_type": "markdown",
      "metadata": {
        "id": "cANHJoHDppwL",
        "colab_type": "text"
      },
      "source": [
        "## Data Visualization"
      ]
    },
    {
      "cell_type": "code",
      "metadata": {
        "id": "bjJLKnsbfXab",
        "colab_type": "code",
        "colab": {}
      },
      "source": [
        "!pip install seaborn"
      ],
      "execution_count": null,
      "outputs": []
    },
    {
      "cell_type": "code",
      "metadata": {
        "id": "uXrrY71Irvyb",
        "colab_type": "code",
        "colab": {}
      },
      "source": [
        "!pip  install --upgrade seaborn"
      ],
      "execution_count": null,
      "outputs": []
    },
    {
      "cell_type": "code",
      "metadata": {
        "id": "DSInfJaxUHdQ",
        "colab_type": "code",
        "colab": {
          "base_uri": "https://localhost:8080/",
          "height": 863
        },
        "outputId": "65976e53-b426-49af-acf5-46e13634e314"
      },
      "source": [
        "import seaborn as sns; \n",
        "import matplotlib.pyplot as plt\n",
        "\n",
        "#Scatter Plot\n",
        "fig=plt.figure()\n",
        "ax=fig.add_axes([0,0,1,1])\n",
        "ax.scatter(fobj.Hours, fobj.Scores, color='r')\n",
        "ax.set_xlabel('Hours Studied')\n",
        "ax.set_ylabel('Grades Scored')\n",
        "ax.set_title('scatter plot')\n",
        "plt.show()\n",
        "\n",
        "#Heatmap\n",
        "heatmap1_data = pd.pivot_table(fobj, values='Scores',columns='Hours')\n",
        "fig, ax = plt.subplots(figsize=(12,8)) \n",
        "sns.heatmap(heatmap1_data, annot=True, ax=ax, \n",
        "            cmap=\"YlGnBu\")\n",
        "\n"
      ],
      "execution_count": null,
      "outputs": [
        {
          "output_type": "display_data",
          "data": {
            "image/png": "[encoded data removed]",
            "text/plain": [
              "<Figure size 432x288 with 1 Axes>"
            ]
          },
          "metadata": {
            "tags": [],
            "needs_background": "light"
          }
        },
        {
          "output_type": "execute_result",
          "data": {
            "text/plain": [
              "<matplotlib.axes._subplots.AxesSubplot at 0x7f6bd98ad320>"
            ]
          },
          "metadata": {
            "tags": []
          },
          "execution_count": 24
        },
        {
          "output_type": "display_data",
          "data": {
            "image/png": "[encoded data removed]",
            "text/plain": [
              "<Figure size 864x576 with 2 Axes>"
            ]
          },
          "metadata": {
            "tags": [],
            "needs_background": "light"
          }
        }
      ]
    },
    {
      "cell_type": "markdown",
      "metadata": {
        "id": "V8griOFAvtgl",
        "colab_type": "text"
      },
      "source": [
        "### From the above representations we could see that as the no. of hours for study increased, the scores got better. Now, Lets prepare our prediction model"
      ]
    },
    {
      "cell_type": "code",
      "metadata": {
        "id": "tYK6xldGtlML",
        "colab_type": "code",
        "colab": {
          "base_uri": "https://localhost:8080/",
          "height": 34
        },
        "outputId": "78484a5f-e6e9-4df3-94a5-b276e29f47a1"
      },
      "source": [
        "from sklearn.metrics import classification_report, roc_auc_score\n",
        "from sklearn.metrics import accuracy_score \n",
        "from sklearn.model_selection import train_test_split\n",
        "from sklearn.metrics import confusion_matrix\n",
        "from sklearn.linear_model import LinearRegression \n",
        "from sklearn.metrics import r2_score\n",
        "\n",
        "x_train, x_test, y_train, y_test = train_test_split(fobj.Hours, fobj.Scores, test_size=0.33)\n",
        "x_train=np.array(x_train)\n",
        "x_test=np.array(x_test)\n",
        "y_train=np.array(y_train)\n",
        "\n",
        "\n",
        "x_train=x_train.reshape(-1,1)\n",
        "x_test=x_test.reshape(-1,1)\n",
        "y_train=y_train.reshape(-1,1)\n",
        "clf = LinearRegression(normalize=True)\n",
        "clf.fit(x_train,y_train)\n",
        "y_pred = clf.predict(x_test)\n",
        "\n",
        "print(r2_score(y_test,y_pred))\n",
        "\n",
        "#x_test=np.array(x_test)\n",
        "#y_test=np.array(y_test)\n",
        "\n",
        "#x_test=x_test.reshape(-1,1)\n",
        "#y_test=y_test.reshape(-1,1)\n",
        "#print(clf.score(x_test,y_test))"
      ],
      "execution_count": null,
      "outputs": [
        {
          "output_type": "stream",
          "text": [
            "0.9391834858634007\n"
          ],
          "name": "stdout"
        }
      ]
    },
    {
      "cell_type": "markdown",
      "metadata": {
        "id": "_BgKzOYHAaxZ",
        "colab_type": "text"
      },
      "source": [
        "#### Regression line plot"
      ]
    },
    {
      "cell_type": "code",
      "metadata": {
        "id": "A2ojSYP0AaAR",
        "colab_type": "code",
        "colab": {
          "base_uri": "https://localhost:8080/",
          "height": 282
        },
        "outputId": "99bd4004-f0c6-4369-fd7d-0ade960fc412"
      },
      "source": [
        "plt.plot(x_test, y_pred , color='red')\n",
        "plt.scatter(fobj.Hours, fobj.Scores,color='blue')\n"
      ],
      "execution_count": null,
      "outputs": [
        {
          "output_type": "execute_result",
          "data": {
            "text/plain": [
              "<matplotlib.collections.PathCollection at 0x7f6bd9a72208>"
            ]
          },
          "metadata": {
            "tags": []
          },
          "execution_count": 32
        },
        {
          "output_type": "display_data",
          "data": {
            "image/png": "[encoded data removed]",
            "text/plain": [
              "<Figure size 432x288 with 1 Axes>"
            ]
          },
          "metadata": {
            "tags": [],
            "needs_background": "light"
          }
        }
      ]
    },
    {
      "cell_type": "markdown",
      "metadata": {
        "id": "qnzOqkWIQU60",
        "colab_type": "text"
      },
      "source": [
        "### Cross-validation of the above Linear regression model"
      ]
    },
    {
      "cell_type": "code",
      "metadata": {
        "id": "-u9mo2xQfR_5",
        "colab_type": "code",
        "colab": {
          "base_uri": "https://localhost:8080/",
          "height": 34
        },
        "outputId": "766b24a0-d460-441e-8567-b87332c2c9e9"
      },
      "source": [
        "from sklearn.model_selection import KFold\n",
        "from sklearn.model_selection import cross_val_score\n",
        "\n",
        "kfold = KFold(n_splits=3,random_state=None)\n",
        "result3 = cross_val_score(clf,x_test,y_test, cv=kfold, scoring='r2')\n",
        "\n",
        "result3.mean()\n"
      ],
      "execution_count": null,
      "outputs": [
        {
          "output_type": "execute_result",
          "data": {
            "text/plain": [
              "0.9311321673092102"
            ]
          },
          "metadata": {
            "tags": []
          },
          "execution_count": 33
        }
      ]
    },
    {
      "cell_type": "markdown",
      "metadata": {
        "id": "RdQQx1ISN5Ot",
        "colab_type": "text"
      },
      "source": [
        "###Comparing hyperparameter optimization method using various techniques like Elasticnet, ElasticNetCV, Ridge Regression, Lasso Regression."
      ]
    },
    {
      "cell_type": "code",
      "metadata": {
        "id": "Bld6MGTCi9KZ",
        "colab_type": "code",
        "colab": {
          "base_uri": "https://localhost:8080/",
          "height": 34
        },
        "outputId": "34245822-de63-45e3-ecc0-75e4e7c88083"
      },
      "source": [
        "from sklearn.linear_model import ElasticNet,ElasticNetCV\n",
        "\n",
        "elastModel = ElasticNet(alpha= 0.7, l1_ratio=0.5, fit_intercept=True,normalize=False, max_iter=1000 )\n",
        "elastModel.fit(x_train,y_train)\n",
        "\n",
        "elastModel.score(x_test,y_test)"
      ],
      "execution_count": null,
      "outputs": [
        {
          "output_type": "execute_result",
          "data": {
            "text/plain": [
              "0.9225532758285447"
            ]
          },
          "metadata": {
            "tags": []
          },
          "execution_count": 34
        }
      ]
    },
    {
      "cell_type": "markdown",
      "metadata": {
        "id": "Uyxon42SQHDV",
        "colab_type": "text"
      },
      "source": [
        "### Cross-validation to further optimize the ElasticNet model"
      ]
    },
    {
      "cell_type": "code",
      "metadata": {
        "id": "kq1_O52LSfnz",
        "colab_type": "code",
        "colab": {
          "base_uri": "https://localhost:8080/",
          "height": 51
        },
        "outputId": "58cf3982-0287-40b5-8648-e5ea36cccbf6"
      },
      "source": [
        "from sklearn.model_selection import KFold\n",
        "from sklearn.model_selection import cross_val_score\n",
        "from sklearn import linear_model\n",
        "\n",
        "elast=linear_model.ElasticNet()\n",
        "kfold = KFold(n_splits=3,random_state=None)\n",
        "result1 = cross_val_score(elastModel,x_test,y_test, cv=kfold, scoring='r2')\n",
        "result2 = cross_val_score(elast,x_test,y_test, cv=kfold, scoring='r2')\n",
        "print(result1.mean())\n",
        "print(result2.mean())"
      ],
      "execution_count": null,
      "outputs": [
        {
          "output_type": "stream",
          "text": [
            "0.9200749687681552\n",
            "0.9117477446380912\n"
          ],
          "name": "stdout"
        }
      ]
    },
    {
      "cell_type": "markdown",
      "metadata": {
        "id": "slIQsLAVTFVG",
        "colab_type": "text"
      },
      "source": [
        "## With ElasticNetCVmodel"
      ]
    },
    {
      "cell_type": "code",
      "metadata": {
        "id": "Elf33KLyXQEI",
        "colab_type": "code",
        "colab": {
          "base_uri": "https://localhost:8080/",
          "height": 88
        },
        "outputId": "e474a482-d427-4460-87bb-9ffb4b531417"
      },
      "source": [
        "elasticCVModel=ElasticNetCV(l1_ratio=[0.1,0.5,0.7,0.9],n_alphas=200,fit_intercept=True,normalize=False,max_iter=1000,cv=5)\n",
        "elasticCVModel.fit(x_train,y_train)\n",
        "\n",
        "elasticCVModel.score(x_test,y_test)\n",
        "\n"
      ],
      "execution_count": null,
      "outputs": [
        {
          "output_type": "stream",
          "text": [
            "/usr/local/lib/python3.6/dist-packages/sklearn/linear_model/_coordinate_descent.py:1088: DataConversionWarning: A column-vector y was passed when a 1d array was expected. Please change the shape of y to (n_samples, ), for example using ravel().\n",
            "  y = column_or_1d(y, warn=True)\n"
          ],
          "name": "stderr"
        },
        {
          "output_type": "execute_result",
          "data": {
            "text/plain": [
              "0.9324712818999422"
            ]
          },
          "metadata": {
            "tags": []
          },
          "execution_count": 36
        }
      ]
    },
    {
      "cell_type": "markdown",
      "metadata": {
        "id": "XUaDDjfrZ79s",
        "colab_type": "text"
      },
      "source": [
        "### Optimization method 2: Gradient Descent with Custom Linear regression model"
      ]
    },
    {
      "cell_type": "code",
      "metadata": {
        "id": "vVjF4O_LaB1f",
        "colab_type": "code",
        "colab": {
          "base_uri": "https://localhost:8080/",
          "height": 433
        },
        "outputId": "68543a9d-adcc-480a-a721-c29dfefc1e57"
      },
      "source": [
        "## Linear Regression \n",
        "import numpy as np\n",
        "theta1_true = a_0[0][0]\n",
        "x=np.array(fobj.Hours)\n",
        "y=theta1_true * x\n",
        "\n",
        "\n",
        "def cost_func(theta1):\n",
        "    \"\"\"The cost function, J(theta1) describing the goodness of fit.\"\"\"\n",
        "    theta1 = np.atleast_2d(np.asarray(theta1))\n",
        "    return np.average((y-hypothesis(x, theta1))**2, axis=1)\n",
        "\n",
        "def hypothesis(x, theta1):\n",
        "    \"\"\"Our \"hypothesis function\", a straight line through the origin.\"\"\"\n",
        "    return theta1*x\n",
        "\n",
        "\n",
        "n = len(fobj.Hours)\n",
        "y_bar=fobj.Scores.mean()\n",
        "x_val=np.array(fobj.Hours)\n",
        "y_val=np.array(fobj.Scores)\n",
        "\n",
        "x_val=x_val.reshape(-1,1)\n",
        "y_val=y_val.reshape(-1,1)\n",
        "alpha = 0.0001\n",
        "\n",
        "a_0 = np.zeros((n,1))\n",
        "a_1 = np.zeros((n,1))\n",
        "\n",
        "N = 1000\n",
        "theta1 = [0]\n",
        "J = [cost_func(theta1[0])[0]]\n",
        "\n",
        "mean_sq_er=0\n",
        "epochs = 100000\n",
        "while(epochs >0):\n",
        "    y_cap = a_0 + a_1 * x_val\n",
        "    error = y_cap - y_val\n",
        "    mean_sq_er = mean_sq_er+(error**2)\n",
        "    mean_sq_er = mean_sq_er/n\n",
        "    a_0 = a_0 - alpha * 2 * np.sum(error)/n \n",
        "    if (epochs%100==0):\n",
        "      theta1.append(a_0[0][0])\n",
        "      J.append(cost_func(a_0[0][0]))\n",
        "    a_1 = a_1 - alpha * 2 * np.sum(error * x_val)/n\n",
        "    epochs -= 1\n",
        "\n",
        "print(r2_score(y_val,y_cap))\n",
        "\n",
        "# The plot: LHS is the data, RHS will be the cost function.\n",
        "fig, ax = plt.subplots(nrows=1, ncols=1, figsize=(10,6.15))\n",
        "\n",
        "theta1_grid = np.linspace(-2,7,100)\n",
        "J_grid = cost_func(theta1_grid[:,np.newaxis])\n",
        "ax.plot(theta1_grid, J_grid, 'k')\n",
        "\n",
        "for j in range(1,N):\n",
        "    ax.annotate('', xy=(theta1[j], J[j]), xytext=(theta1[j-1], J[j-1]),\n",
        "                   arrowprops={'arrowstyle': '->', 'color': 'r', 'lw': 1},\n",
        "                   va='center', ha='center')\n",
        "    \n",
        "ax.text(a_0[0][0],-10,str(a_0[0][0]))\n",
        "ax.set_xlabel(r'$\\theta_1$')\n",
        "ax.set_ylabel(r'$J(\\theta_1)$')\n",
        "ax.set_title('Cost function')\n",
        "\n",
        "plt.show()"
      ],
      "execution_count": null,
      "outputs": [
        {
          "output_type": "stream",
          "text": [
            "0.9529480772350853\n"
          ],
          "name": "stdout"
        },
        {
          "output_type": "display_data",
          "data": {
            "image/png": "[encoded data removed]",
            "text/plain": [
              "<Figure size 720x442.8 with 1 Axes>"
            ]
          },
          "metadata": {
            "tags": [],
            "needs_background": "light"
          }
        }
      ]
    },
    {
      "cell_type": "code",
      "metadata": {
        "id": "3hmGYyzRuJfx",
        "colab_type": "code",
        "colab": {
          "base_uri": "https://localhost:8080/",
          "height": 204
        },
        "outputId": "5398ae98-e13c-4543-9958-ae6a77ecbf9a"
      },
      "source": [
        "# Comparing Actual vs Predicted\n",
        "y_actual=np.array(fobj.Scores)\n",
        "y_predicted=y_cap.ravel()\n",
        "df = pd.DataFrame({'Actual': y_actual, 'Predicted': y_predicted})  \n",
        "df.head()"
      ],
      "execution_count": null,
      "outputs": [
        {
          "output_type": "execute_result",
          "data": {
            "text/html": [
              "<div>\n",
              "<style scoped>\n",
              "    .dataframe tbody tr th:only-of-type {\n",
              "        vertical-align: middle;\n",
              "    }\n",
              "\n",
              "    .dataframe tbody tr th {\n",
              "        vertical-align: top;\n",
              "    }\n",
              "\n",
              "    .dataframe thead th {\n",
              "        text-align: right;\n",
              "    }\n",
              "</style>\n",
              "<table border=\"1\" class=\"dataframe\">\n",
              "  <thead>\n",
              "    <tr style=\"text-align: right;\">\n",
              "      <th></th>\n",
              "      <th>Actual</th>\n",
              "      <th>Predicted</th>\n",
              "    </tr>\n",
              "  </thead>\n",
              "  <tbody>\n",
              "    <tr>\n",
              "      <th>0</th>\n",
              "      <td>21</td>\n",
              "      <td>26.911633</td>\n",
              "    </tr>\n",
              "    <tr>\n",
              "      <th>1</th>\n",
              "      <td>47</td>\n",
              "      <td>52.336848</td>\n",
              "    </tr>\n",
              "    <tr>\n",
              "      <th>2</th>\n",
              "      <td>27</td>\n",
              "      <td>33.756884</td>\n",
              "    </tr>\n",
              "    <tr>\n",
              "      <th>3</th>\n",
              "      <td>75</td>\n",
              "      <td>85.585205</td>\n",
              "    </tr>\n",
              "    <tr>\n",
              "      <th>4</th>\n",
              "      <td>30</td>\n",
              "      <td>36.690562</td>\n",
              "    </tr>\n",
              "  </tbody>\n",
              "</table>\n",
              "</div>"
            ],
            "text/plain": [
              "   Actual  Predicted\n",
              "0      21  26.911633\n",
              "1      47  52.336848\n",
              "2      27  33.756884\n",
              "3      75  85.585205\n",
              "4      30  36.690562"
            ]
          },
          "metadata": {
            "tags": []
          },
          "execution_count": 38
        }
      ]
    },
    {
      "cell_type": "markdown",
      "metadata": {
        "id": "6tbT2HRN2tLV",
        "colab_type": "text"
      },
      "source": [
        "# L1 Regularization of our model"
      ]
    },
    {
      "cell_type": "code",
      "metadata": {
        "id": "ZIS_4bTy2rkY",
        "colab_type": "code",
        "colab": {
          "base_uri": "https://localhost:8080/",
          "height": 34
        },
        "outputId": "7038e2a3-0c29-4496-8d6e-63e7fedc256e"
      },
      "source": [
        "import numpy as np\n",
        "theta1_true = a_0[0][0]\n",
        "x=np.array(fobj.Hours)\n",
        "y=theta1_true * x\n",
        "\n",
        "\n",
        "def cost_func(theta1):\n",
        "    \"\"\"The cost function, J(theta1) describing the goodness of fit.\"\"\"\n",
        "    theta1 = np.atleast_2d(np.asarray(theta1))\n",
        "    return np.average((y-hypothesis(x, theta1))**2, axis=1)/2\n",
        "\n",
        "def hypothesis(x, theta1):\n",
        "    \"\"\"Our \"hypothesis function\", a straight line through the origin.\"\"\"\n",
        "    return theta1*x\n",
        "\n",
        "\n",
        "n = len(fobj.Hours)\n",
        "y_bar=fobj.Scores.mean()\n",
        "x_val=np.array(fobj.Hours)\n",
        "y_val=np.array(fobj.Scores)\n",
        "\n",
        "x_val=x_val.reshape(-1,1)\n",
        "y_val=y_val.reshape(-1,1)\n",
        "alpha = 0.001\n",
        "lambdaval= 0.001\n",
        "\n",
        "a_0 = np.zeros((n,1))\n",
        "a_1 = np.zeros((n,1))\n",
        "\n",
        "N = 1000\n",
        "theta1 = [0]\n",
        "J = [cost_func(theta1[0])[0]]\n",
        "\n",
        "mean_sq_er=0\n",
        "epochs = 100000\n",
        "while(epochs >0):\n",
        "    y_cap = a_0 + a_1 * x_val\n",
        "    error = y_cap - y_val\n",
        "    mean_sq_er = mean_sq_er+(error**2)\n",
        "    mean_sq_er = mean_sq_er/n\n",
        "    a_0 = a_0 - alpha * (2 * np.sum(error)/n + (2*lambdaval*a_0))\n",
        "    if (epochs%100==0):\n",
        "      theta1.append(a_0[0][0])\n",
        "      J.append(cost_func(a_0[0][0]))\n",
        "    a_1 = a_1 - alpha * (2 * np.sum(error * x_val)/n + (2*lambdaval*a_1))\n",
        "    epochs -= 1\n",
        "\n",
        "print(r2_score(y_val,y_cap))"
      ],
      "execution_count": null,
      "outputs": [
        {
          "output_type": "stream",
          "text": [
            "0.9529481850262572\n"
          ],
          "name": "stdout"
        }
      ]
    },
    {
      "cell_type": "markdown",
      "metadata": {
        "id": "JaHJMJfdPuGR",
        "colab_type": "text"
      },
      "source": [
        "# Grid search for optimum alpha and epoch values"
      ]
    },
    {
      "cell_type": "code",
      "metadata": {
        "id": "_YrjUqKzWd_b",
        "colab_type": "code",
        "colab": {
          "base_uri": "https://localhost:8080/",
          "height": 493
        },
        "outputId": "7aba7e93-0930-43a5-bc51-baf3b0a3fc93"
      },
      "source": [
        "p=[0.001, 0.003, 0.01, 0.03, 0.1, 0.3]\n",
        "q=[5000,10000,50000,100000]\n",
        "pq = list(itertools.product(p,q))\n",
        "\n",
        "for param in pq:\n",
        "  print(param[0],param[1])"
      ],
      "execution_count": null,
      "outputs": [
        {
          "output_type": "stream",
          "text": [
            "0.001 5000\n",
            "0.001 10000\n",
            "0.001 50000\n",
            "0.001 100000\n",
            "0.003 5000\n",
            "0.003 10000\n",
            "0.003 50000\n",
            "0.003 100000\n",
            "0.01 5000\n",
            "0.01 10000\n",
            "0.01 50000\n",
            "0.01 100000\n",
            "0.03 5000\n",
            "0.03 10000\n",
            "0.03 50000\n",
            "0.03 100000\n",
            "0.1 5000\n",
            "0.1 10000\n",
            "0.1 50000\n",
            "0.1 100000\n",
            "0.3 5000\n",
            "0.3 10000\n",
            "0.3 50000\n",
            "0.3 100000\n",
            "1 5000\n",
            "1 10000\n",
            "1 50000\n",
            "1 100000\n"
          ],
          "name": "stdout"
        }
      ]
    },
    {
      "cell_type": "code",
      "metadata": {
        "id": "1h37YyirMAOQ",
        "colab_type": "code",
        "colab": {
          "base_uri": "https://localhost:8080/",
          "height": 1000
        },
        "outputId": "50d45a1f-ff07-4084-e803-99dc46d542fa"
      },
      "source": [
        "import itertools\n",
        "n = len(fobj.Hours)\n",
        "y_bar=fobj.Scores.mean()\n",
        "x_val=np.array(fobj.Hours)\n",
        "y_val=np.array(fobj.Scores)\n",
        "\n",
        "x_val=x_val.reshape(-1,1)\n",
        "y_val=y_val.reshape(-1,1)\n",
        "#alpha = 0.0001\n",
        "\n",
        "a_0 = np.zeros((n,1))\n",
        "a_1 = np.zeros((n,1))\n",
        "\n",
        "mean_sq_er=0\n",
        "#epochs = 100000\n",
        "def myLinearRegression(alpha,epochs,a_0,a_1,mean_sq_er,n):\n",
        "  while(epochs >0):\n",
        "      y_cap = a_0 + a_1 * x_val\n",
        "      error = y_cap - y_val\n",
        "      mean_sq_er = mean_sq_er+(error**2)\n",
        "      mean_sq_er = mean_sq_er/n\n",
        "      a_0 = a_0 - alpha * 2 * np.sum(error)/n \n",
        "      a_1 = a_1 - alpha * 2 * np.sum(error * x_val)/n\n",
        "      epochs -= 1\n",
        "  return y_cap\n",
        "\n",
        "p=[0.001, 0.003, 0.01, 0.03, 0.1, 0.3]\n",
        "q=[5000,10000,50000,100000]\n",
        "pq = list(itertools.product(p,q))\n",
        "for param in pq:\n",
        "  try: \n",
        "    prediction_value = myLinearRegression(param[0],param[1],a_0,a_1,mean_sq_er,n)\n",
        "    print(param[0],param[1])\n",
        "    print(r2_score(y_val,prediction_value))\n",
        "    print(\"   \")\n",
        "  except:\n",
        "        continue\n",
        "\n"
      ],
      "execution_count": null,
      "outputs": [
        {
          "output_type": "stream",
          "text": [
            "0.001 5000\n",
            "0.9529427407167019\n",
            "   \n",
            "0.001 10000\n",
            "0.9529480773099476\n",
            "   \n",
            "0.001 50000\n",
            "0.9529481969048356\n",
            "   \n",
            "0.001 100000\n",
            "0.9529481969048356\n",
            "   \n",
            "0.003 5000\n",
            "0.9529481942908865\n",
            "   \n",
            "0.003 10000\n",
            "0.9529481969048081\n",
            "   \n",
            "0.003 50000\n",
            "0.9529481969048356\n",
            "   \n",
            "0.003 100000\n",
            "0.9529481969048356\n",
            "   \n",
            "0.01 5000\n",
            "0.9529481969048356\n",
            "   \n",
            "0.01 10000\n",
            "0.9529481969048356\n",
            "   \n",
            "0.01 50000\n",
            "0.9529481969048356\n",
            "   \n",
            "0.01 100000\n",
            "0.9529481969048356\n",
            "   \n",
            "0.03 5000\n",
            "0.9529481969048356\n",
            "   \n",
            "0.03 10000\n",
            "0.9529481969048356\n",
            "   \n",
            "0.03 50000\n",
            "0.9529481969048356\n",
            "   \n",
            "0.03 100000\n",
            "0.9529481969048356\n",
            "   \n",
            "0.1 5000\n"
          ],
          "name": "stdout"
        },
        {
          "output_type": "stream",
          "text": [
            "/usr/local/lib/python3.6/dist-packages/ipykernel_launcher.py:20: RuntimeWarning: overflow encountered in square\n",
            "/usr/local/lib/python3.6/dist-packages/numpy/core/fromnumeric.py:90: RuntimeWarning: overflow encountered in reduce\n",
            "  return ufunc.reduce(obj, axis, dtype, out, **passkwargs)\n",
            "/usr/local/lib/python3.6/dist-packages/ipykernel_launcher.py:23: RuntimeWarning: invalid value encountered in subtract\n",
            "/usr/local/lib/python3.6/dist-packages/ipykernel_launcher.py:20: RuntimeWarning: overflow encountered in square\n",
            "/usr/local/lib/python3.6/dist-packages/numpy/core/fromnumeric.py:90: RuntimeWarning: overflow encountered in reduce\n",
            "  return ufunc.reduce(obj, axis, dtype, out, **passkwargs)\n",
            "/usr/local/lib/python3.6/dist-packages/ipykernel_launcher.py:23: RuntimeWarning: invalid value encountered in subtract\n"
          ],
          "name": "stderr"
        },
        {
          "output_type": "stream",
          "text": [
            "0.1 10000\n"
          ],
          "name": "stdout"
        },
        {
          "output_type": "stream",
          "text": [
            "/usr/local/lib/python3.6/dist-packages/ipykernel_launcher.py:20: RuntimeWarning: overflow encountered in square\n",
            "/usr/local/lib/python3.6/dist-packages/numpy/core/fromnumeric.py:90: RuntimeWarning: overflow encountered in reduce\n",
            "  return ufunc.reduce(obj, axis, dtype, out, **passkwargs)\n",
            "/usr/local/lib/python3.6/dist-packages/ipykernel_launcher.py:23: RuntimeWarning: invalid value encountered in subtract\n"
          ],
          "name": "stderr"
        },
        {
          "output_type": "stream",
          "text": [
            "0.1 50000\n"
          ],
          "name": "stdout"
        },
        {
          "output_type": "stream",
          "text": [
            "/usr/local/lib/python3.6/dist-packages/ipykernel_launcher.py:20: RuntimeWarning: overflow encountered in square\n",
            "/usr/local/lib/python3.6/dist-packages/numpy/core/fromnumeric.py:90: RuntimeWarning: overflow encountered in reduce\n",
            "  return ufunc.reduce(obj, axis, dtype, out, **passkwargs)\n",
            "/usr/local/lib/python3.6/dist-packages/ipykernel_launcher.py:23: RuntimeWarning: invalid value encountered in subtract\n"
          ],
          "name": "stderr"
        },
        {
          "output_type": "stream",
          "text": [
            "0.1 100000\n",
            "0.3 5000\n"
          ],
          "name": "stdout"
        },
        {
          "output_type": "stream",
          "text": [
            "/usr/local/lib/python3.6/dist-packages/ipykernel_launcher.py:20: RuntimeWarning: overflow encountered in square\n",
            "/usr/local/lib/python3.6/dist-packages/numpy/core/fromnumeric.py:90: RuntimeWarning: overflow encountered in reduce\n",
            "  return ufunc.reduce(obj, axis, dtype, out, **passkwargs)\n",
            "/usr/local/lib/python3.6/dist-packages/ipykernel_launcher.py:23: RuntimeWarning: invalid value encountered in subtract\n",
            "/usr/local/lib/python3.6/dist-packages/ipykernel_launcher.py:20: RuntimeWarning: overflow encountered in square\n",
            "/usr/local/lib/python3.6/dist-packages/numpy/core/fromnumeric.py:90: RuntimeWarning: overflow encountered in reduce\n",
            "  return ufunc.reduce(obj, axis, dtype, out, **passkwargs)\n",
            "/usr/local/lib/python3.6/dist-packages/ipykernel_launcher.py:23: RuntimeWarning: invalid value encountered in subtract\n"
          ],
          "name": "stderr"
        },
        {
          "output_type": "stream",
          "text": [
            "0.3 10000\n"
          ],
          "name": "stdout"
        },
        {
          "output_type": "stream",
          "text": [
            "/usr/local/lib/python3.6/dist-packages/ipykernel_launcher.py:20: RuntimeWarning: overflow encountered in square\n",
            "/usr/local/lib/python3.6/dist-packages/numpy/core/fromnumeric.py:90: RuntimeWarning: overflow encountered in reduce\n",
            "  return ufunc.reduce(obj, axis, dtype, out, **passkwargs)\n",
            "/usr/local/lib/python3.6/dist-packages/ipykernel_launcher.py:23: RuntimeWarning: invalid value encountered in subtract\n"
          ],
          "name": "stderr"
        },
        {
          "output_type": "stream",
          "text": [
            "0.3 50000\n"
          ],
          "name": "stdout"
        },
        {
          "output_type": "stream",
          "text": [
            "/usr/local/lib/python3.6/dist-packages/ipykernel_launcher.py:20: RuntimeWarning: overflow encountered in square\n",
            "/usr/local/lib/python3.6/dist-packages/numpy/core/fromnumeric.py:90: RuntimeWarning: overflow encountered in reduce\n",
            "  return ufunc.reduce(obj, axis, dtype, out, **passkwargs)\n",
            "/usr/local/lib/python3.6/dist-packages/ipykernel_launcher.py:23: RuntimeWarning: invalid value encountered in subtract\n"
          ],
          "name": "stderr"
        },
        {
          "output_type": "stream",
          "text": [
            "0.3 100000\n"
          ],
          "name": "stdout"
        }
      ]
    },
    {
      "cell_type": "markdown",
      "metadata": {
        "id": "trDGE8qqtlqU",
        "colab_type": "text"
      },
      "source": [
        "### What will be predicted score if a student study for 9.25 hrs in a day?"
      ]
    },
    {
      "cell_type": "code",
      "metadata": {
        "id": "7vngyekRLkWN",
        "colab_type": "code",
        "colab": {
          "base_uri": "https://localhost:8080/",
          "height": 68
        },
        "outputId": "82bef7ba-4039-4940-c2f7-b351f797c1d9"
      },
      "source": [
        "pred1=clf.predict([[9.25]])\n",
        "pred2=elastModel.predict([[9.25]])\n",
        "pred3=elasticCVModel.predict([[9.25]])\n",
        "\n",
        "print(\"Student score according to Simple Linear regression model: \", str(round(pred1[0][0],2)),\" marks\")\n",
        "print(\"Student score according to Elastic model: \", str(round(pred2[0],2)),\" marks\")\n",
        "print(\"Student score according to ElasticCV model: \", str(round(pred3[0],2)),\" marks\")"
      ],
      "execution_count": null,
      "outputs": [
        {
          "output_type": "stream",
          "text": [
            "Student score according to Simple Linear regression model:  90.33  marks\n",
            "Student score according to Elastic model:  88.07  marks\n",
            "Student score according to ElasticCV model:  90.25  marks\n"
          ],
          "name": "stdout"
        }
      ]
    },
    {
      "cell_type": "code",
      "metadata": {
        "id": "rfhbLV0Mk7qs",
        "colab_type": "code",
        "colab": {
          "base_uri": "https://localhost:8080/",
          "height": 34
        },
        "outputId": "3042ec42-e708-4df8-b94c-dcc81c206db4"
      },
      "source": [
        "student_score=a_0[0][0] + a_1[0][0] * (9.25)\n",
        "\n",
        "print(\"The Student may score :\",str(round(student_score,2)),\" marks\")"
      ],
      "execution_count": null,
      "outputs": [
        {
          "output_type": "stream",
          "text": [
            "The Student may score : 92.92  marks\n"
          ],
          "name": "stdout"
        }
      ]
    }
  ]
}